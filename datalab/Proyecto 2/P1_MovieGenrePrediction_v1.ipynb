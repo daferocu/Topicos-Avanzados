{
  "cells": [
    {
      "cell_type": "markdown",
      "metadata": {},
      "source": [
        "<a href=\"https://colab.research.google.com/github/daferocu/Topicos-Avanzados/blob/main/datalab/Proyecto%202/P1_MovieGenrePrediction_v2.ipynb\" target=\"_parent\"><img src=\"https://colab.research.google.com/assets/colab-badge.svg\" alt=\"Open In Colab\"/></a>"
      ]
    },
    {
      "cell_type": "markdown",
      "metadata": {},
      "source": [
        "# **Movie Genre Classification**\n",
        "\n",
        "**Proyecto Procesamiento de Lenguaje Natural - NLP**\n",
        "\n",
        "**Profesor:** Sergio Alberto Mora Pardo\n",
        "\n",
        "**Integrantes:**\n",
        "\n",
        "*   Daniel Rodríguez\n",
        "*   Diana Ibáñez\n",
        "*   Oscar Correcha\n",
        "*   Erika Cárdenas\n",
        "*   Paola Castro\n",
        "\n",
        "\n",
        "**Objetivo:**\n",
        "Clasificar el género de la película según su trama.\n",
        "\n",
        "<img src=\"https://raw.githubusercontent.com/sergiomora03/AdvancedTopicsAnalytics/main/notebooks/img/moviegenre.png\"\n",
        "     style=\"float: left; margin-right: 10px;\" />\n",
        "\n",
        "\n",
        "\n",
        "### Data\n",
        "\n",
        "*Input:*\n",
        "- movie plot\n",
        "\n",
        "*Output:*\n",
        "Probability of the movie belong to each genre\n",
        "\n",
        "\n",
        "### Acknowledgements\n",
        "\n",
        "We thank Professor Fabio Gonzalez, Ph.D. and his student John Arevalo for providing this dataset.\n",
        "\n",
        "See https://arxiv.org/abs/1702.01992"
      ]
    },
    {
      "cell_type": "code",
      "execution_count": null,
      "metadata": {},
      "outputs": [],
      "source": [
        "import re\n",
        "import string\n",
        "import pandas as pd\n",
        "import numpy as np\n",
        "import matplotlib.pyplot as plt\n",
        "import seaborn as sns\n",
        "import pickle\n",
        "\n",
        "from nltk.stem.wordnet import WordNetLemmatizer\n",
        "\n",
        "from sklearn.feature_extraction.text import TfidfVectorizer, TfidfTransformer, CountVectorizer\n",
        "from sklearn.preprocessing import MultiLabelBinarizer\n",
        "from sklearn.model_selection import train_test_split, cross_val_score\n",
        "from sklearn.multiclass import OneVsRestClassifier\n",
        "from sklearn.linear_model import SGDClassifier\n",
        "from sklearn.linear_model import LogisticRegression, LogisticRegressionCV\n",
        "from sklearn.naive_bayes import MultinomialNB\n",
        "from sklearn.svm import SVC, LinearSVC\n",
        "from sklearn.neighbors import KNeighborsClassifier \n",
        "from sklearn.ensemble import RandomForestClassifier, AdaBoostClassifier, GradientBoostingClassifier\n",
        "from sklearn.multioutput import ClassifierChain\n",
        "from xgboost import XGBClassifier\n",
        "from sklearn.metrics import roc_auc_score\n",
        "\n",
        "from funciones_auxiliares import print_metrics, comparar_metricas, grafico_metricas, comparar_listas_anidadas\n",
        "\n",
        "import warnings\n",
        "warnings.filterwarnings(\"ignore\")"
      ]
    },
    {
      "cell_type": "markdown",
      "metadata": {},
      "source": [
        "# **1. Adquisición de los datos**"
      ]
    },
    {
      "cell_type": "code",
      "execution_count": 2,
      "metadata": {
        "id": "m3hJnPBWnx_t"
      },
      "outputs": [],
      "source": [
        "dataTraining = pd.read_csv('https://github.com/sergiomora03/AdvancedTopicsAnalytics/raw/main/datasets/dataTraining.zip', encoding='UTF-8', index_col=0)\n",
        "dataTesting = pd.read_csv('https://github.com/sergiomora03/AdvancedTopicsAnalytics/raw/main/datasets/dataTesting.zip', encoding='UTF-8', index_col=0)\n",
        "\n",
        "dataTraining = dataTraining.drop_duplicates()\n",
        "dataTraining['plot'] = dataTraining['title'] + ' ' + dataTraining['plot']\n",
        "dataTraining['genres'] = dataTraining['genres'].map(lambda x: eval(x))\n",
        "le = MultiLabelBinarizer()\n",
        "y_genres = le.fit_transform(dataTraining['genres'])"
      ]
    },
    {
      "cell_type": "code",
      "execution_count": 3,
      "metadata": {},
      "outputs": [],
      "source": [
        "# # Guarda el MultiLabelBinarizer en un archivo pickle\n",
        "# with open('le.pkl', 'wb') as f:\n",
        "#     pickle.dump(le, f)"
      ]
    },
    {
      "cell_type": "code",
      "execution_count": 3,
      "metadata": {},
      "outputs": [],
      "source": [
        "max_f = 2500\n",
        "test_size = 0.2\n",
        "random_state = 42\n",
        "\n",
        "def tokenize(text):\n",
        "    '''\n",
        "    Tokenize text and return a non-unique list of tokenized words found in the text. \n",
        "    Normalize to lowercase, strip punctuation, remove stop words, filter non-ascii characters.\n",
        "    Lemmatize the words and lastly drop words of length < 3.\n",
        "    '''\n",
        "    text = text.lower()\n",
        "    regex = re.compile('[' + re.escape(string.punctuation) + '0-9\\\\r\\\\t\\\\n]')\n",
        "    nopunct = regex.sub(\" \", text)\n",
        "    words = nopunct.split(' ')\n",
        "    # remove any non ascii\n",
        "    words = [word.encode('ascii', 'ignore').decode('ascii') for word in words]\n",
        "    lmtzr = WordNetLemmatizer()\n",
        "    words = [lmtzr.lemmatize(w) for w in words]\n",
        "    words = [w for w in words if len(w) > 2]\n",
        "    return words"
      ]
    },
    {
      "cell_type": "code",
      "execution_count": 4,
      "metadata": {
        "colab": {
          "base_uri": "https://localhost:8080/"
        },
        "id": "TOtOhavanx_v",
        "outputId": "cf543a22-4a10-4433-83db-89e5a1916c26"
      },
      "outputs": [
        {
          "name": "stdout",
          "output_type": "stream",
          "text": [
            "(7894, 7075)\n"
          ]
        }
      ],
      "source": [
        "vect = TfidfVectorizer(ngram_range=(1, 3), analyzer='word', lowercase = True, \n",
        "                       tokenizer=tokenize, stop_words='english',\n",
        "                       strip_accents='unicode', use_idf=True, min_df=10)\n",
        "\n",
        "X_dtm = vect.fit_transform(dataTraining['plot'])\n",
        "print(X_dtm.shape)\n",
        "\n",
        "X_train, X_test, y_train_genres, y_test_genres = train_test_split(X_dtm, \n",
        "                                                                  y_genres, \n",
        "                                                                  test_size=test_size, \n",
        "                                                                  random_state=random_state)"
      ]
    },
    {
      "cell_type": "code",
      "execution_count": 6,
      "metadata": {},
      "outputs": [],
      "source": [
        "# pickle.dump(vect.vocabulary_, open(\"feature.pkl\", \"wb\"))"
      ]
    },
    {
      "cell_type": "markdown",
      "metadata": {
        "id": "_A8GJ0oBnx_x"
      },
      "source": [
        "### Experimentos"
      ]
    },
    {
      "cell_type": "code",
      "execution_count": 7,
      "metadata": {
        "id": "5vfswfx_nx_x"
      },
      "outputs": [
        {
          "name": "stdout",
          "output_type": "stream",
          "text": [
            "\n",
            "The results of the adjustment metrics - RandomForestClassifier:\n",
            "\n",
            "      AUC entrenamiento: 0.970\n",
            "      AUC testeo: 0.824\n"
          ]
        }
      ],
      "source": [
        "clf = OneVsRestClassifier(RandomForestClassifier(n_jobs=-1, n_estimators=100, max_depth=10, random_state=random_state))\n",
        "clf.fit(X_train, y_train_genres)\n",
        "y_pred_genres = clf.predict_proba(X_test)\n",
        "roc_auc_score(y_test_genres, y_pred_genres, average='macro')\n",
        "\n",
        "y_pred_train = clf.predict_proba(X_train)\n",
        "y_pred_test = clf.predict_proba(X_test)\n",
        "model1_metrics = print_metrics('RandomForestClassifier', \n",
        "                               y_pred_train, y_pred_test, \n",
        "                               y_train_genres, y_test_genres\n",
        "                               )"
      ]
    },
    {
      "cell_type": "code",
      "execution_count": 8,
      "metadata": {},
      "outputs": [
        {
          "name": "stdout",
          "output_type": "stream",
          "text": [
            "\n",
            "The results of the adjustment metrics - MultinomialNB:\n",
            "\n",
            "      AUC entrenamiento: 0.970\n",
            "      AUC testeo: 0.824\n"
          ]
        }
      ],
      "source": [
        "Mnb_classifier = OneVsRestClassifier(MultinomialNB(alpha=0.1, fit_prior=False))\n",
        "Mnb_classifier.fit(X_train, y_train_genres)\n",
        "y_pred_genres = Mnb_classifier.predict_proba(X_test)\n",
        "roc_auc_score(y_test_genres, y_pred_genres, average='macro')\n",
        "\n",
        "y_pred_train = clf.predict_proba(X_train)\n",
        "y_pred_test = clf.predict_proba(X_test)\n",
        "model2_metrics = print_metrics('MultinomialNB', \n",
        "                               y_pred_train, y_pred_test, \n",
        "                               y_train_genres, y_test_genres\n",
        "                               )"
      ]
    },
    {
      "cell_type": "code",
      "execution_count": 9,
      "metadata": {},
      "outputs": [],
      "source": [
        "# pickle_out = open(\"cl_nb.pkl\",\"wb\")\n",
        "# pickle.dump(Mnb_classifier, pickle_out)\n",
        "# pickle_out.close()"
      ]
    },
    {
      "cell_type": "code",
      "execution_count": 10,
      "metadata": {},
      "outputs": [
        {
          "name": "stdout",
          "output_type": "stream",
          "text": [
            "\n",
            "The results of the adjustment metrics - XGBClassifier:\n",
            "\n",
            "      AUC entrenamiento: 0.996\n",
            "      AUC testeo: 0.838\n"
          ]
        }
      ],
      "source": [
        "ovr = OneVsRestClassifier(XGBClassifier())\n",
        "ovr.fit(X_train, y_train_genres)\n",
        "y_pred_genres = ovr.predict_proba(X_test)\n",
        "roc_auc_score(y_test_genres, y_pred_genres, average='macro')\n",
        "\n",
        "y_pred_train = ovr.predict_proba(X_train)\n",
        "y_pred_test = ovr.predict_proba(X_test)\n",
        "model3_metrics = print_metrics('XGBClassifier', \n",
        "                               y_pred_train, y_pred_test, \n",
        "                               y_train_genres, y_test_genres\n",
        "                               )"
      ]
    },
    {
      "cell_type": "code",
      "execution_count": 5,
      "metadata": {},
      "outputs": [
        {
          "name": "stdout",
          "output_type": "stream",
          "text": [
            "\n",
            "The results of the adjustment metrics - LogisticRegression:\n",
            "\n",
            "      AUC entrenamiento: 0.981\n",
            "      AUC testeo: 0.891\n"
          ]
        }
      ],
      "source": [
        "lr = OneVsRestClassifier(LogisticRegression(random_state=random_state))\n",
        "lr.fit(X_train, y_train_genres)\n",
        "y_pred_genres = lr.predict_proba(X_test)\n",
        "roc_auc_score(y_test_genres, y_pred_genres, average='macro')\n",
        "\n",
        "y_pred_train = lr.predict_proba(X_train)\n",
        "y_pred_test = lr.predict_proba(X_test)\n",
        "model4_metrics = print_metrics('LogisticRegression', \n",
        "                               y_pred_train, y_pred_test, \n",
        "                               y_train_genres, y_test_genres\n",
        "                               )"
      ]
    },
    {
      "cell_type": "code",
      "execution_count": 12,
      "metadata": {},
      "outputs": [],
      "source": [
        "# pickle_out = open(\"cl_lr.pkl\",\"wb\")\n",
        "# pickle.dump(lr, pickle_out)\n",
        "# pickle_out.close()"
      ]
    },
    {
      "cell_type": "code",
      "execution_count": 9,
      "metadata": {},
      "outputs": [
        {
          "name": "stdout",
          "output_type": "stream",
          "text": [
            "\n",
            "The results of the adjustment metrics - LogisticRegressionCV:\n",
            "\n",
            "      AUC entrenamiento: 0.990\n",
            "      AUC testeo: 0.881\n"
          ]
        }
      ],
      "source": [
        "lr = OneVsRestClassifier(LogisticRegressionCV(random_state=random_state, cv=5))\n",
        "lr.fit(X_train, y_train_genres)\n",
        "y_pred_genres = lr.predict_proba(X_test)\n",
        "roc_auc_score(y_test_genres, y_pred_genres, average='macro')\n",
        "\n",
        "y_pred_train = lr.predict_proba(X_train)\n",
        "y_pred_test = lr.predict_proba(X_test)\n",
        "model5_metrics = print_metrics('LogisticRegressionCV', \n",
        "                               y_pred_train, y_pred_test, \n",
        "                               y_train_genres, y_test_genres\n",
        "                               )"
      ]
    },
    {
      "cell_type": "code",
      "execution_count": 10,
      "metadata": {},
      "outputs": [
        {
          "name": "stdout",
          "output_type": "stream",
          "text": [
            "\n",
            "The results of the adjustment metrics - SGDClassifier:\n",
            "\n",
            "      AUC entrenamiento: 0.894\n",
            "      AUC testeo: 0.638\n"
          ]
        }
      ],
      "source": [
        "sg = OneVsRestClassifier(SGDClassifier(random_state=random_state))\n",
        "sg.fit(X_train, y_train_genres)\n",
        "y_pred_genres = sg.predict(X_test)\n",
        "roc_auc_score(y_test_genres, y_pred_genres, average='macro')\n",
        "\n",
        "y_pred_train = sg.predict(X_train)\n",
        "y_pred_test = sg.predict(X_test)\n",
        "model6_metrics = print_metrics('SGDClassifier', \n",
        "                               y_pred_train, y_pred_test, \n",
        "                               y_train_genres, y_test_genres\n",
        "                               )"
      ]
    },
    {
      "cell_type": "code",
      "execution_count": 11,
      "metadata": {},
      "outputs": [
        {
          "name": "stdout",
          "output_type": "stream",
          "text": [
            "\n",
            "The results of the adjustment metrics - LinearSVC:\n",
            "\n",
            "      AUC entrenamiento: 0.979\n",
            "      AUC testeo: 0.638\n"
          ]
        }
      ],
      "source": [
        "svmm = OneVsRestClassifier(LinearSVC(random_state=random_state))\n",
        "svmm.fit(X_train, y_train_genres)\n",
        "y_pred_genres = svmm.predict(X_test)\n",
        "roc_auc_score(y_test_genres, y_pred_genres, average='macro')\n",
        "\n",
        "y_pred_train = svmm.predict(X_train)\n",
        "y_pred_test = svmm.predict(X_test)\n",
        "model7_metrics = print_metrics('LinearSVC', \n",
        "                               y_pred_train, y_pred_test, \n",
        "                               y_train_genres, y_test_genres\n",
        "                               )"
      ]
    },
    {
      "cell_type": "code",
      "execution_count": 12,
      "metadata": {},
      "outputs": [
        {
          "name": "stdout",
          "output_type": "stream",
          "text": [
            "\n",
            "The results of the adjustment metrics - AdaBoostClassifier:\n",
            "\n",
            "      AUC entrenamiento: 0.916\n",
            "      AUC testeo: 0.793\n"
          ]
        }
      ],
      "source": [
        "ab_clf = OneVsRestClassifier(AdaBoostClassifier())\n",
        "ab_clf.fit(X_train, y_train_genres)\n",
        "y_pred_genres = ab_clf.predict_proba(X_test)\n",
        "roc_auc_score(y_test_genres, y_pred_genres, average='macro')\n",
        "\n",
        "y_pred_train = ab_clf.predict_proba(X_train)\n",
        "y_pred_test = ab_clf.predict_proba(X_test)\n",
        "model8_metrics = print_metrics('AdaBoostClassifier', \n",
        "                               y_pred_train, y_pred_test, \n",
        "                               y_train_genres, y_test_genres\n",
        "                               )"
      ]
    },
    {
      "cell_type": "code",
      "execution_count": 13,
      "metadata": {},
      "outputs": [
        {
          "name": "stdout",
          "output_type": "stream",
          "text": [
            "\n",
            "The results of the adjustment metrics - GradientBoostingClassifier:\n",
            "\n",
            "      AUC entrenamiento: 0.956\n",
            "      AUC testeo: 0.770\n"
          ]
        }
      ],
      "source": [
        "gb_clf = OneVsRestClassifier(GradientBoostingClassifier())\n",
        "gb_clf.fit(X_train, y_train_genres)\n",
        "y_pred_genres = gb_clf.predict_proba(X_test)\n",
        "roc_auc_score(y_test_genres, y_pred_genres, average='macro')\n",
        "\n",
        "y_pred_train = gb_clf.predict_proba(X_train)\n",
        "y_pred_test = gb_clf.predict_proba(X_test)\n",
        "model9_metrics = print_metrics('GradientBoostingClassifier', \n",
        "                               y_pred_train, y_pred_test, \n",
        "                               y_train_genres, y_test_genres\n",
        "                               )"
      ]
    },
    {
      "cell_type": "code",
      "execution_count": 14,
      "metadata": {},
      "outputs": [
        {
          "name": "stdout",
          "output_type": "stream",
          "text": [
            "\n",
            "The results of the adjustment metrics - ClassifierChain:\n",
            "\n",
            "      AUC entrenamiento: 0.953\n",
            "      AUC testeo: 0.848\n"
          ]
        }
      ],
      "source": [
        "base_classifier = OneVsRestClassifier(LogisticRegression(random_state=random_state))\n",
        "classifier_chain = ClassifierChain(base_classifier, order=\"random\", random_state=random_state)\n",
        "classifier_chain.fit(X_train, y_train_genres)\n",
        "y_pred_genres = lr.predict_proba(X_test)\n",
        "roc_auc_score(y_test_genres, y_pred_genres, average='macro')\n",
        "\n",
        "y_pred_train = classifier_chain.predict_proba(X_train)\n",
        "y_pred_test = classifier_chain.predict_proba(X_test)\n",
        "model10_metrics = print_metrics('ClassifierChain', \n",
        "                               y_pred_train, y_pred_test, \n",
        "                               y_train_genres, y_test_genres\n",
        "                               )"
      ]
    },
    {
      "cell_type": "code",
      "execution_count": 15,
      "metadata": {},
      "outputs": [
        {
          "data": {
            "text/plain": [
              "array([0.83780427, 0.83983655, 0.8518849 , 0.83971094,        nan])"
            ]
          },
          "execution_count": 15,
          "metadata": {},
          "output_type": "execute_result"
        }
      ],
      "source": [
        "n_scores = cross_val_score(classifier_chain, X_train, y_train_genres, \n",
        "                           scoring='roc_auc_ovr', cv=5, \n",
        "                           n_jobs=-1)\n",
        "n_scores = np.absolute(n_scores)\n",
        "n_scores"
      ]
    },
    {
      "cell_type": "code",
      "execution_count": 16,
      "metadata": {},
      "outputs": [
        {
          "name": "stdout",
          "output_type": "stream",
          "text": [
            "\n",
            "The results of the adjustment metrics - KNeighborsClassifier:\n",
            "\n",
            "      AUC entrenamiento: 0.954\n",
            "      AUC testeo: 0.654\n"
          ]
        }
      ],
      "source": [
        "kk = OneVsRestClassifier(KNeighborsClassifier(n_neighbors = 3))\n",
        "kk.fit(X_train, y_train_genres)\n",
        "y_pred_genres = kk.predict_proba(X_test)\n",
        "roc_auc_score(y_test_genres, y_pred_genres, average='macro')\n",
        "\n",
        "y_pred_train = kk.predict_proba(X_train)\n",
        "y_pred_test = kk.predict_proba(X_test)\n",
        "model11_metrics = print_metrics('KNeighborsClassifier', \n",
        "                               y_pred_train, y_pred_test, \n",
        "                               y_train_genres, y_test_genres\n",
        "                               )"
      ]
    },
    {
      "cell_type": "code",
      "execution_count": 17,
      "metadata": {},
      "outputs": [
        {
          "name": "stdout",
          "output_type": "stream",
          "text": [
            "\n",
            "The results of the adjustment metrics - ClassifierChain2:\n",
            "\n",
            "      AUC entrenamiento: 1.000\n",
            "      AUC testeo: 0.811\n"
          ]
        }
      ],
      "source": [
        "base_classifier = RandomForestClassifier(random_state=42)\n",
        "classifier_chain = ClassifierChain(base_classifier, order=\"random\")\n",
        "classifier_chain.fit(X_train, y_train_genres)\n",
        "y_pred_genres = classifier_chain.predict_proba(X_test)\n",
        "roc_auc_score(y_test_genres, y_pred_genres, average='macro')\n",
        "\n",
        "\n",
        "y_pred_train = classifier_chain.predict_proba(X_train)\n",
        "y_pred_test = classifier_chain.predict_proba(X_test)\n",
        "model12_metrics = print_metrics('ClassifierChain2', \n",
        "                               y_pred_train, y_pred_test, \n",
        "                               y_train_genres, y_test_genres\n",
        "                               )"
      ]
    },
    {
      "cell_type": "markdown",
      "metadata": {},
      "source": [
        "## Modelos metricas"
      ]
    },
    {
      "cell_type": "code",
      "execution_count": 18,
      "metadata": {},
      "outputs": [
        {
          "data": {
            "text/html": [
              "<style type=\"text/css\">\n",
              "#T_46c3d_row2_col0, #T_46c3d_row3_col2, #T_46c3d_row11_col1 {\n",
              "  background-color: cornflowerblue;\n",
              "}\n",
              "#T_46c3d_row5_col1, #T_46c3d_row6_col2, #T_46c3d_row7_col0 {\n",
              "  background-color: crimson;\n",
              "}\n",
              "</style>\n",
              "<table id=\"T_46c3d\">\n",
              "  <thead>\n",
              "    <tr>\n",
              "      <th class=\"blank level0\" >&nbsp;</th>\n",
              "      <th id=\"T_46c3d_level0_col0\" class=\"col_heading level0 col0\" >Modelo</th>\n",
              "      <th id=\"T_46c3d_level0_col1\" class=\"col_heading level0 col1\" >AUC entrenamiento</th>\n",
              "      <th id=\"T_46c3d_level0_col2\" class=\"col_heading level0 col2\" >AUC testeo</th>\n",
              "    </tr>\n",
              "  </thead>\n",
              "  <tbody>\n",
              "    <tr>\n",
              "      <th id=\"T_46c3d_level0_row0\" class=\"row_heading level0 row0\" >0</th>\n",
              "      <td id=\"T_46c3d_row0_col0\" class=\"data row0 col0\" >RandomForestClassifier</td>\n",
              "      <td id=\"T_46c3d_row0_col1\" class=\"data row0 col1\" >0.969599</td>\n",
              "      <td id=\"T_46c3d_row0_col2\" class=\"data row0 col2\" >0.824126</td>\n",
              "    </tr>\n",
              "    <tr>\n",
              "      <th id=\"T_46c3d_level0_row1\" class=\"row_heading level0 row1\" >1</th>\n",
              "      <td id=\"T_46c3d_row1_col0\" class=\"data row1 col0\" >MultinomialNB</td>\n",
              "      <td id=\"T_46c3d_row1_col1\" class=\"data row1 col1\" >0.969599</td>\n",
              "      <td id=\"T_46c3d_row1_col2\" class=\"data row1 col2\" >0.824126</td>\n",
              "    </tr>\n",
              "    <tr>\n",
              "      <th id=\"T_46c3d_level0_row2\" class=\"row_heading level0 row2\" >2</th>\n",
              "      <td id=\"T_46c3d_row2_col0\" class=\"data row2 col0\" >XGBClassifier</td>\n",
              "      <td id=\"T_46c3d_row2_col1\" class=\"data row2 col1\" >0.996142</td>\n",
              "      <td id=\"T_46c3d_row2_col2\" class=\"data row2 col2\" >0.838152</td>\n",
              "    </tr>\n",
              "    <tr>\n",
              "      <th id=\"T_46c3d_level0_row3\" class=\"row_heading level0 row3\" >3</th>\n",
              "      <td id=\"T_46c3d_row3_col0\" class=\"data row3 col0\" >LogisticRegression</td>\n",
              "      <td id=\"T_46c3d_row3_col1\" class=\"data row3 col1\" >0.981136</td>\n",
              "      <td id=\"T_46c3d_row3_col2\" class=\"data row3 col2\" >0.890810</td>\n",
              "    </tr>\n",
              "    <tr>\n",
              "      <th id=\"T_46c3d_level0_row4\" class=\"row_heading level0 row4\" >4</th>\n",
              "      <td id=\"T_46c3d_row4_col0\" class=\"data row4 col0\" >LogisticRegressionCV</td>\n",
              "      <td id=\"T_46c3d_row4_col1\" class=\"data row4 col1\" >0.990007</td>\n",
              "      <td id=\"T_46c3d_row4_col2\" class=\"data row4 col2\" >0.880912</td>\n",
              "    </tr>\n",
              "    <tr>\n",
              "      <th id=\"T_46c3d_level0_row5\" class=\"row_heading level0 row5\" >5</th>\n",
              "      <td id=\"T_46c3d_row5_col0\" class=\"data row5 col0\" >SGDClassifier</td>\n",
              "      <td id=\"T_46c3d_row5_col1\" class=\"data row5 col1\" >0.894456</td>\n",
              "      <td id=\"T_46c3d_row5_col2\" class=\"data row5 col2\" >0.638421</td>\n",
              "    </tr>\n",
              "    <tr>\n",
              "      <th id=\"T_46c3d_level0_row6\" class=\"row_heading level0 row6\" >6</th>\n",
              "      <td id=\"T_46c3d_row6_col0\" class=\"data row6 col0\" >LinearSVC</td>\n",
              "      <td id=\"T_46c3d_row6_col1\" class=\"data row6 col1\" >0.978612</td>\n",
              "      <td id=\"T_46c3d_row6_col2\" class=\"data row6 col2\" >0.637556</td>\n",
              "    </tr>\n",
              "    <tr>\n",
              "      <th id=\"T_46c3d_level0_row7\" class=\"row_heading level0 row7\" >7</th>\n",
              "      <td id=\"T_46c3d_row7_col0\" class=\"data row7 col0\" >AdaBoostClassifier</td>\n",
              "      <td id=\"T_46c3d_row7_col1\" class=\"data row7 col1\" >0.916098</td>\n",
              "      <td id=\"T_46c3d_row7_col2\" class=\"data row7 col2\" >0.792526</td>\n",
              "    </tr>\n",
              "    <tr>\n",
              "      <th id=\"T_46c3d_level0_row8\" class=\"row_heading level0 row8\" >8</th>\n",
              "      <td id=\"T_46c3d_row8_col0\" class=\"data row8 col0\" >GradientBoostingClassifier</td>\n",
              "      <td id=\"T_46c3d_row8_col1\" class=\"data row8 col1\" >0.956470</td>\n",
              "      <td id=\"T_46c3d_row8_col2\" class=\"data row8 col2\" >0.769992</td>\n",
              "    </tr>\n",
              "    <tr>\n",
              "      <th id=\"T_46c3d_level0_row9\" class=\"row_heading level0 row9\" >9</th>\n",
              "      <td id=\"T_46c3d_row9_col0\" class=\"data row9 col0\" >ClassifierChain</td>\n",
              "      <td id=\"T_46c3d_row9_col1\" class=\"data row9 col1\" >0.953491</td>\n",
              "      <td id=\"T_46c3d_row9_col2\" class=\"data row9 col2\" >0.848301</td>\n",
              "    </tr>\n",
              "    <tr>\n",
              "      <th id=\"T_46c3d_level0_row10\" class=\"row_heading level0 row10\" >10</th>\n",
              "      <td id=\"T_46c3d_row10_col0\" class=\"data row10 col0\" >KNeighborsClassifier</td>\n",
              "      <td id=\"T_46c3d_row10_col1\" class=\"data row10 col1\" >0.954235</td>\n",
              "      <td id=\"T_46c3d_row10_col2\" class=\"data row10 col2\" >0.654497</td>\n",
              "    </tr>\n",
              "    <tr>\n",
              "      <th id=\"T_46c3d_level0_row11\" class=\"row_heading level0 row11\" >11</th>\n",
              "      <td id=\"T_46c3d_row11_col0\" class=\"data row11 col0\" >ClassifierChain2</td>\n",
              "      <td id=\"T_46c3d_row11_col1\" class=\"data row11 col1\" >1.000000</td>\n",
              "      <td id=\"T_46c3d_row11_col2\" class=\"data row11 col2\" >0.810520</td>\n",
              "    </tr>\n",
              "  </tbody>\n",
              "</table>\n"
            ],
            "text/plain": [
              "<pandas.io.formats.style.Styler at 0x21605943e00>"
            ]
          },
          "execution_count": 18,
          "metadata": {},
          "output_type": "execute_result"
        }
      ],
      "source": [
        "metricas_tabla = comparar_metricas(model1_metrics,\n",
        "                                   model2_metrics,\n",
        "                                   model3_metrics,\n",
        "                                   model4_metrics,\n",
        "                                   model5_metrics,\n",
        "                                   model6_metrics,\n",
        "                                   model7_metrics,\n",
        "                                   model8_metrics,\n",
        "                                   model9_metrics,\n",
        "                                   model10_metrics,\n",
        "                                   model11_metrics,\n",
        "                                   model12_metrics,\n",
        "                                   index_name='Modelo')\n",
        "metricas_tabla"
      ]
    },
    {
      "cell_type": "code",
      "execution_count": 19,
      "metadata": {},
      "outputs": [
        {
          "data": {
            "image/png": "[encoded data removed]",
            "text/plain": [
              "<Figure size 1500x600 with 1 Axes>"
            ]
          },
          "metadata": {},
          "output_type": "display_data"
        }
      ],
      "source": [
        "grafico_metricas(metricas_tabla)"
      ]
    },
    {
      "cell_type": "code",
      "execution_count": 20,
      "metadata": {},
      "outputs": [
        {
          "name": "stdout",
          "output_type": "stream",
          "text": [
            "Ok_\n"
          ]
        }
      ],
      "source": [
        "print('Ok_')"
      ]
    }
  ],
  "metadata": {
    "colab": {
      "include_colab_link": true,
      "provenance": []
    },
    "kernelspec": {
      "display_name": "Python 3",
      "language": "python",
      "name": "python3"
    },
    "language_info": {
      "codemirror_mode": {
        "name": "ipython",
        "version": 3
      },
      "file_extension": ".py",
      "mimetype": "text/x-python",
      "name": "python",
      "nbconvert_exporter": "python",
      "pygments_lexer": "ipython3",
      "version": "3.12.1"
    }
  },
  "nbformat": 4,
  "nbformat_minor": 0
}

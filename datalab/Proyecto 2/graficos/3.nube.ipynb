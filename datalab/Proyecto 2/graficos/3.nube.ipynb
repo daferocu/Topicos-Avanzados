{
 "cells": [
  {
   "cell_type": "code",
   "execution_count": 29,
   "metadata": {},
   "outputs": [],
   "source": [
    "import re\n",
    "import string\n",
    "import pandas as pd\n",
    "import numpy as np\n",
    "import matplotlib.pyplot as plt\n",
    "import plotly.express as px\n",
    "\n",
    "from nltk.stem.wordnet import WordNetLemmatizer\n",
    "\n",
    "from sklearn.feature_extraction.text import TfidfVectorizer, TfidfTransformer\n",
    "from sklearn.decomposition import TruncatedSVD\n",
    "from sklearn.preprocessing import MultiLabelBinarizer\n",
    "from sklearn.cluster import KMeans\n",
    "\n",
    "import warnings\n",
    "warnings.filterwarnings(\"ignore\")"
   ]
  },
  {
   "cell_type": "code",
   "execution_count": 30,
   "metadata": {},
   "outputs": [],
   "source": [
    "dataTraining = pd.read_csv('https://github.com/sergiomora03/AdvancedTopicsAnalytics/raw/main/datasets/dataTraining.zip', encoding='UTF-8', index_col=0)\n",
    "dataTesting = pd.read_csv('https://github.com/sergiomora03/AdvancedTopicsAnalytics/raw/main/datasets/dataTesting.zip', encoding='UTF-8', index_col=0)\n",
    "\n",
    "dataTraining = dataTraining.drop_duplicates()\n",
    "dataTraining['plot'] = dataTraining['title'] + ' ' + dataTraining['plot']\n",
    "dataTraining['genres'] = dataTraining['genres'].map(lambda x: eval(x))\n",
    "le = MultiLabelBinarizer()\n",
    "y_genres = le.fit_transform(dataTraining['genres'])"
   ]
  },
  {
   "cell_type": "code",
   "execution_count": 31,
   "metadata": {},
   "outputs": [
    {
     "data": {
      "text/html": [
       "<div>\n",
       "<style scoped>\n",
       "    .dataframe tbody tr th:only-of-type {\n",
       "        vertical-align: middle;\n",
       "    }\n",
       "\n",
       "    .dataframe tbody tr th {\n",
       "        vertical-align: top;\n",
       "    }\n",
       "\n",
       "    .dataframe thead th {\n",
       "        text-align: right;\n",
       "    }\n",
       "</style>\n",
       "<table border=\"1\" class=\"dataframe\">\n",
       "  <thead>\n",
       "    <tr style=\"text-align: right;\">\n",
       "      <th></th>\n",
       "      <th>year</th>\n",
       "      <th>title</th>\n",
       "      <th>plot</th>\n",
       "      <th>genres</th>\n",
       "      <th>rating</th>\n",
       "    </tr>\n",
       "  </thead>\n",
       "  <tbody>\n",
       "    <tr>\n",
       "      <th>3107</th>\n",
       "      <td>2003</td>\n",
       "      <td>Most</td>\n",
       "      <td>Most most is the story of a single father who ...</td>\n",
       "      <td>[Short, Drama]</td>\n",
       "      <td>8.0</td>\n",
       "    </tr>\n",
       "    <tr>\n",
       "      <th>900</th>\n",
       "      <td>2008</td>\n",
       "      <td>How to Be a Serial Killer</td>\n",
       "      <td>How to Be a Serial Killer a serial killer deci...</td>\n",
       "      <td>[Comedy, Crime, Horror]</td>\n",
       "      <td>5.6</td>\n",
       "    </tr>\n",
       "    <tr>\n",
       "      <th>6724</th>\n",
       "      <td>1941</td>\n",
       "      <td>A Woman's Face</td>\n",
       "      <td>A Woman's Face in sweden ,  a female blackmail...</td>\n",
       "      <td>[Drama, Film-Noir, Thriller]</td>\n",
       "      <td>7.2</td>\n",
       "    </tr>\n",
       "    <tr>\n",
       "      <th>4704</th>\n",
       "      <td>1954</td>\n",
       "      <td>Executive Suite</td>\n",
       "      <td>Executive Suite in a friday afternoon in new y...</td>\n",
       "      <td>[Drama]</td>\n",
       "      <td>7.4</td>\n",
       "    </tr>\n",
       "    <tr>\n",
       "      <th>2582</th>\n",
       "      <td>1990</td>\n",
       "      <td>Narrow Margin</td>\n",
       "      <td>Narrow Margin in los angeles ,  the editor of ...</td>\n",
       "      <td>[Action, Crime, Thriller]</td>\n",
       "      <td>6.6</td>\n",
       "    </tr>\n",
       "  </tbody>\n",
       "</table>\n",
       "</div>"
      ],
      "text/plain": [
       "      year                      title  \\\n",
       "3107  2003                       Most   \n",
       "900   2008  How to Be a Serial Killer   \n",
       "6724  1941             A Woman's Face   \n",
       "4704  1954            Executive Suite   \n",
       "2582  1990              Narrow Margin   \n",
       "\n",
       "                                                   plot  \\\n",
       "3107  Most most is the story of a single father who ...   \n",
       "900   How to Be a Serial Killer a serial killer deci...   \n",
       "6724  A Woman's Face in sweden ,  a female blackmail...   \n",
       "4704  Executive Suite in a friday afternoon in new y...   \n",
       "2582  Narrow Margin in los angeles ,  the editor of ...   \n",
       "\n",
       "                            genres  rating  \n",
       "3107                [Short, Drama]     8.0  \n",
       "900        [Comedy, Crime, Horror]     5.6  \n",
       "6724  [Drama, Film-Noir, Thriller]     7.2  \n",
       "4704                       [Drama]     7.4  \n",
       "2582     [Action, Crime, Thriller]     6.6  "
      ]
     },
     "execution_count": 31,
     "metadata": {},
     "output_type": "execute_result"
    }
   ],
   "source": [
    "dataTraining.head()"
   ]
  },
  {
   "cell_type": "code",
   "execution_count": 32,
   "metadata": {},
   "outputs": [],
   "source": [
    "max_f = 2500\n",
    "test_size = 0.2\n",
    "random_state = 42\n",
    "\n",
    "def tokenize(text):\n",
    "    '''\n",
    "    Tokenize text and return a non-unique list of tokenized words found in the text. \n",
    "    Normalize to lowercase, strip punctuation, remove stop words, filter non-ascii characters.\n",
    "    Lemmatize the words and lastly drop words of length < 3.\n",
    "    '''\n",
    "    text = text.lower()\n",
    "    regex = re.compile('[' + re.escape(string.punctuation) + '0-9\\\\r\\\\t\\\\n]')\n",
    "    nopunct = regex.sub(\" \", text)\n",
    "    words = nopunct.split(' ')\n",
    "    # remove any non ascii\n",
    "    words = [word.encode('ascii', 'ignore').decode('ascii') for word in words]\n",
    "    lmtzr = WordNetLemmatizer()\n",
    "    words = [lmtzr.lemmatize(w) for w in words]\n",
    "    words = [w for w in words if len(w) > 2]\n",
    "    return words\n",
    "\n",
    "def preprocess_text(text):\n",
    "    text = text.lower()\n",
    "    text = re.sub(r'\\d+', '', text)\n",
    "    return text"
   ]
  },
  {
   "cell_type": "code",
   "execution_count": 33,
   "metadata": {},
   "outputs": [],
   "source": [
    "from nltk.corpus import stopwords\n",
    "\n",
    "# Initialize a list of custom stop words\n",
    "custom_stop_words = ['jack', 'john', 'doe', 'york', 'year old',  'also', 'one', \n",
    "                     'two', 'three', 'becomes', 'another', 'nick', 'charlie', \n",
    "                     'david', 'sam', 'frank', 'four', 'joe', 'tom', 'michael', \n",
    "                     'george', 'may',\n",
    "                     ]   #, 'get' 'year' \n",
    "\n",
    "# Combine custom stop words with the default English stop words\n",
    "all_stop_words = stopwords.words('english') + custom_stop_words"
   ]
  },
  {
   "cell_type": "code",
   "execution_count": 34,
   "metadata": {},
   "outputs": [],
   "source": [
    "vectorizer = TfidfVectorizer(ngram_range=(1, 3), analyzer='word', lowercase = True, \n",
    "                             tokenizer=tokenize, stop_words=all_stop_words, max_features=100,\n",
    "                             strip_accents='unicode', use_idf=True, min_df=10)\n",
    "\n",
    "# vectorizer = CountVectorizer(ngram_range=(1, 2), \n",
    "#                              preprocessor=preprocess_text, \n",
    "#                              stop_words=\"english\", \n",
    "#                              max_features=100)"
   ]
  },
  {
   "cell_type": "code",
   "execution_count": 35,
   "metadata": {},
   "outputs": [
    {
     "name": "stdout",
     "output_type": "stream",
     "text": [
      "(7894, 100)\n"
     ]
    }
   ],
   "source": [
    "X = vectorizer.fit_transform(dataTraining['plot'])\n",
    "print(X.shape)"
   ]
  },
  {
   "cell_type": "code",
   "execution_count": 36,
   "metadata": {},
   "outputs": [],
   "source": [
    "l = vectorizer.get_feature_names_out().tolist()\n",
    "l = [x.replace('_',' ') for x in l]"
   ]
  },
  {
   "cell_type": "code",
   "execution_count": 37,
   "metadata": {},
   "outputs": [
    {
     "data": {
      "text/html": [
       "<div>\n",
       "<style scoped>\n",
       "    .dataframe tbody tr th:only-of-type {\n",
       "        vertical-align: middle;\n",
       "    }\n",
       "\n",
       "    .dataframe tbody tr th {\n",
       "        vertical-align: top;\n",
       "    }\n",
       "\n",
       "    .dataframe thead th {\n",
       "        text-align: right;\n",
       "    }\n",
       "</style>\n",
       "<table border=\"1\" class=\"dataframe\">\n",
       "  <thead>\n",
       "    <tr style=\"text-align: right;\">\n",
       "      <th></th>\n",
       "      <th>american</th>\n",
       "      <th>away</th>\n",
       "      <th>back</th>\n",
       "      <th>become</th>\n",
       "      <th>begin</th>\n",
       "      <th>belief</th>\n",
       "      <th>best</th>\n",
       "      <th>boy</th>\n",
       "      <th>brother</th>\n",
       "      <th>car</th>\n",
       "      <th>...</th>\n",
       "      <th>way</th>\n",
       "      <th>well</th>\n",
       "      <th>wife</th>\n",
       "      <th>woman</th>\n",
       "      <th>work</th>\n",
       "      <th>world</th>\n",
       "      <th>would</th>\n",
       "      <th>year</th>\n",
       "      <th>year old</th>\n",
       "      <th>young</th>\n",
       "    </tr>\n",
       "  </thead>\n",
       "  <tbody>\n",
       "    <tr>\n",
       "      <th>0</th>\n",
       "      <td>0.0</td>\n",
       "      <td>0.0</td>\n",
       "      <td>0.000000</td>\n",
       "      <td>0.000000</td>\n",
       "      <td>0.0</td>\n",
       "      <td>0.00000</td>\n",
       "      <td>0.0</td>\n",
       "      <td>0.347064</td>\n",
       "      <td>0.0</td>\n",
       "      <td>0.0</td>\n",
       "      <td>...</td>\n",
       "      <td>0.000000</td>\n",
       "      <td>0.0</td>\n",
       "      <td>0.000000</td>\n",
       "      <td>0.289534</td>\n",
       "      <td>0.20025</td>\n",
       "      <td>0.0</td>\n",
       "      <td>0.0</td>\n",
       "      <td>0.083133</td>\n",
       "      <td>0.122302</td>\n",
       "      <td>0.0</td>\n",
       "    </tr>\n",
       "    <tr>\n",
       "      <th>1</th>\n",
       "      <td>0.0</td>\n",
       "      <td>0.0</td>\n",
       "      <td>0.000000</td>\n",
       "      <td>0.000000</td>\n",
       "      <td>0.0</td>\n",
       "      <td>0.00000</td>\n",
       "      <td>0.0</td>\n",
       "      <td>0.000000</td>\n",
       "      <td>0.0</td>\n",
       "      <td>0.0</td>\n",
       "      <td>...</td>\n",
       "      <td>0.000000</td>\n",
       "      <td>0.0</td>\n",
       "      <td>0.000000</td>\n",
       "      <td>0.000000</td>\n",
       "      <td>0.00000</td>\n",
       "      <td>0.0</td>\n",
       "      <td>0.0</td>\n",
       "      <td>0.000000</td>\n",
       "      <td>0.000000</td>\n",
       "      <td>0.0</td>\n",
       "    </tr>\n",
       "    <tr>\n",
       "      <th>2</th>\n",
       "      <td>0.0</td>\n",
       "      <td>0.0</td>\n",
       "      <td>0.000000</td>\n",
       "      <td>0.280263</td>\n",
       "      <td>0.0</td>\n",
       "      <td>0.29203</td>\n",
       "      <td>0.0</td>\n",
       "      <td>0.000000</td>\n",
       "      <td>0.0</td>\n",
       "      <td>0.0</td>\n",
       "      <td>...</td>\n",
       "      <td>0.231001</td>\n",
       "      <td>0.0</td>\n",
       "      <td>0.234297</td>\n",
       "      <td>0.457094</td>\n",
       "      <td>0.00000</td>\n",
       "      <td>0.0</td>\n",
       "      <td>0.0</td>\n",
       "      <td>0.196865</td>\n",
       "      <td>0.289622</td>\n",
       "      <td>0.0</td>\n",
       "    </tr>\n",
       "    <tr>\n",
       "      <th>3</th>\n",
       "      <td>0.0</td>\n",
       "      <td>0.0</td>\n",
       "      <td>0.201091</td>\n",
       "      <td>0.000000</td>\n",
       "      <td>0.0</td>\n",
       "      <td>0.00000</td>\n",
       "      <td>0.0</td>\n",
       "      <td>0.000000</td>\n",
       "      <td>0.0</td>\n",
       "      <td>0.0</td>\n",
       "      <td>...</td>\n",
       "      <td>0.000000</td>\n",
       "      <td>0.0</td>\n",
       "      <td>0.000000</td>\n",
       "      <td>0.000000</td>\n",
       "      <td>0.00000</td>\n",
       "      <td>0.0</td>\n",
       "      <td>0.0</td>\n",
       "      <td>0.000000</td>\n",
       "      <td>0.000000</td>\n",
       "      <td>0.0</td>\n",
       "    </tr>\n",
       "    <tr>\n",
       "      <th>4</th>\n",
       "      <td>0.0</td>\n",
       "      <td>0.0</td>\n",
       "      <td>0.000000</td>\n",
       "      <td>0.000000</td>\n",
       "      <td>0.0</td>\n",
       "      <td>0.00000</td>\n",
       "      <td>0.0</td>\n",
       "      <td>0.000000</td>\n",
       "      <td>0.0</td>\n",
       "      <td>0.0</td>\n",
       "      <td>...</td>\n",
       "      <td>0.000000</td>\n",
       "      <td>0.0</td>\n",
       "      <td>0.000000</td>\n",
       "      <td>0.000000</td>\n",
       "      <td>0.00000</td>\n",
       "      <td>0.0</td>\n",
       "      <td>0.0</td>\n",
       "      <td>0.000000</td>\n",
       "      <td>0.000000</td>\n",
       "      <td>0.0</td>\n",
       "    </tr>\n",
       "  </tbody>\n",
       "</table>\n",
       "<p>5 rows × 100 columns</p>\n",
       "</div>"
      ],
      "text/plain": [
       "   american  away      back    become  begin   belief  best       boy  \\\n",
       "0       0.0   0.0  0.000000  0.000000    0.0  0.00000   0.0  0.347064   \n",
       "1       0.0   0.0  0.000000  0.000000    0.0  0.00000   0.0  0.000000   \n",
       "2       0.0   0.0  0.000000  0.280263    0.0  0.29203   0.0  0.000000   \n",
       "3       0.0   0.0  0.201091  0.000000    0.0  0.00000   0.0  0.000000   \n",
       "4       0.0   0.0  0.000000  0.000000    0.0  0.00000   0.0  0.000000   \n",
       "\n",
       "   brother  car  ...       way  well      wife     woman     work  world  \\\n",
       "0      0.0  0.0  ...  0.000000   0.0  0.000000  0.289534  0.20025    0.0   \n",
       "1      0.0  0.0  ...  0.000000   0.0  0.000000  0.000000  0.00000    0.0   \n",
       "2      0.0  0.0  ...  0.231001   0.0  0.234297  0.457094  0.00000    0.0   \n",
       "3      0.0  0.0  ...  0.000000   0.0  0.000000  0.000000  0.00000    0.0   \n",
       "4      0.0  0.0  ...  0.000000   0.0  0.000000  0.000000  0.00000    0.0   \n",
       "\n",
       "   would      year  year old  young  \n",
       "0    0.0  0.083133  0.122302    0.0  \n",
       "1    0.0  0.000000  0.000000    0.0  \n",
       "2    0.0  0.196865  0.289622    0.0  \n",
       "3    0.0  0.000000  0.000000    0.0  \n",
       "4    0.0  0.000000  0.000000    0.0  \n",
       "\n",
       "[5 rows x 100 columns]"
      ]
     },
     "execution_count": 37,
     "metadata": {},
     "output_type": "execute_result"
    }
   ],
   "source": [
    "p = pd.DataFrame(X.toarray(), columns=vectorizer.get_feature_names_out())\n",
    "p['suma'] = p.sum(axis=1)\n",
    "p = p[p['suma'] != 0]\n",
    "p.drop(['suma'], axis=1, inplace=True)\n",
    "p.head()"
   ]
  },
  {
   "cell_type": "code",
   "execution_count": 38,
   "metadata": {},
   "outputs": [
    {
     "data": {
      "text/plain": [
       "(7821, 100)"
      ]
     },
     "execution_count": 38,
     "metadata": {},
     "output_type": "execute_result"
    }
   ],
   "source": [
    "p.shape"
   ]
  },
  {
   "cell_type": "code",
   "execution_count": 39,
   "metadata": {},
   "outputs": [],
   "source": [
    "# sns.kdeplot(data=p, x=\"suma\")"
   ]
  },
  {
   "cell_type": "code",
   "execution_count": 40,
   "metadata": {},
   "outputs": [
    {
     "data": {
      "text/plain": [
       "(7821, 100)"
      ]
     },
     "execution_count": 40,
     "metadata": {},
     "output_type": "execute_result"
    }
   ],
   "source": [
    "p.shape"
   ]
  },
  {
   "cell_type": "code",
   "execution_count": 41,
   "metadata": {},
   "outputs": [
    {
     "data": {
      "text/plain": [
       "life    593.458392\n",
       "find    480.944012\n",
       "get     438.947284\n",
       "new     417.251212\n",
       "man     399.452312\n",
       "dtype: float64"
      ]
     },
     "execution_count": 41,
     "metadata": {},
     "output_type": "execute_result"
    }
   ],
   "source": [
    "contador = p.sum()\n",
    "contador = contador.sort_values(ascending=False)\n",
    "contador.head()"
   ]
  },
  {
   "cell_type": "code",
   "execution_count": 42,
   "metadata": {},
   "outputs": [],
   "source": [
    "# cooccurrence matrix \n",
    "cooccurrence_matrix = np.dot(p.transpose(),p)\n",
    "# print('\\ncooccurrence_matrix:\\n{0}'.format(cooccurrence_matrix)) "
   ]
  },
  {
   "cell_type": "code",
   "execution_count": 43,
   "metadata": {},
   "outputs": [
    {
     "data": {
      "text/plain": [
       "(100, 100)"
      ]
     },
     "execution_count": 43,
     "metadata": {},
     "output_type": "execute_result"
    }
   ],
   "source": [
    "cooccurrence_matrix.shape"
   ]
  },
  {
   "cell_type": "code",
   "execution_count": 44,
   "metadata": {},
   "outputs": [],
   "source": [
    "# ax = sns.heatmap(cooccurrence_matrix, xticklabels=vectorizer.get_feature_names_out(), yticklabels=vectorizer.get_feature_names_out())"
   ]
  },
  {
   "cell_type": "code",
   "execution_count": 45,
   "metadata": {},
   "outputs": [
    {
     "data": {
      "text/html": [
       "<div>\n",
       "<style scoped>\n",
       "    .dataframe tbody tr th:only-of-type {\n",
       "        vertical-align: middle;\n",
       "    }\n",
       "\n",
       "    .dataframe tbody tr th {\n",
       "        vertical-align: top;\n",
       "    }\n",
       "\n",
       "    .dataframe thead th {\n",
       "        text-align: right;\n",
       "    }\n",
       "</style>\n",
       "<table border=\"1\" class=\"dataframe\">\n",
       "  <thead>\n",
       "    <tr style=\"text-align: right;\">\n",
       "      <th></th>\n",
       "      <th>american</th>\n",
       "      <th>away</th>\n",
       "      <th>back</th>\n",
       "      <th>become</th>\n",
       "      <th>begin</th>\n",
       "      <th>belief</th>\n",
       "      <th>best</th>\n",
       "      <th>boy</th>\n",
       "      <th>brother</th>\n",
       "      <th>car</th>\n",
       "      <th>...</th>\n",
       "      <th>way</th>\n",
       "      <th>well</th>\n",
       "      <th>wife</th>\n",
       "      <th>woman</th>\n",
       "      <th>work</th>\n",
       "      <th>world</th>\n",
       "      <th>would</th>\n",
       "      <th>year</th>\n",
       "      <th>year old</th>\n",
       "      <th>young</th>\n",
       "    </tr>\n",
       "  </thead>\n",
       "  <tbody>\n",
       "    <tr>\n",
       "      <th>0</th>\n",
       "      <td>0.854777</td>\n",
       "      <td>0.017713</td>\n",
       "      <td>0.063254</td>\n",
       "      <td>0.058162</td>\n",
       "      <td>0.043128</td>\n",
       "      <td>0.036100</td>\n",
       "      <td>0.030696</td>\n",
       "      <td>0.031307</td>\n",
       "      <td>0.042373</td>\n",
       "      <td>0.027569</td>\n",
       "      <td>...</td>\n",
       "      <td>0.059063</td>\n",
       "      <td>0.040200</td>\n",
       "      <td>0.055166</td>\n",
       "      <td>0.067688</td>\n",
       "      <td>0.069012</td>\n",
       "      <td>0.083008</td>\n",
       "      <td>0.035676</td>\n",
       "      <td>0.056955</td>\n",
       "      <td>0.015956</td>\n",
       "      <td>0.083439</td>\n",
       "    </tr>\n",
       "    <tr>\n",
       "      <th>1</th>\n",
       "      <td>0.030145</td>\n",
       "      <td>0.712920</td>\n",
       "      <td>0.098455</td>\n",
       "      <td>0.040583</td>\n",
       "      <td>0.044522</td>\n",
       "      <td>0.040652</td>\n",
       "      <td>0.042813</td>\n",
       "      <td>0.064080</td>\n",
       "      <td>0.046763</td>\n",
       "      <td>0.056174</td>\n",
       "      <td>...</td>\n",
       "      <td>0.076136</td>\n",
       "      <td>0.046180</td>\n",
       "      <td>0.083802</td>\n",
       "      <td>0.076661</td>\n",
       "      <td>0.075524</td>\n",
       "      <td>0.074455</td>\n",
       "      <td>0.054319</td>\n",
       "      <td>0.110646</td>\n",
       "      <td>0.037844</td>\n",
       "      <td>0.076778</td>\n",
       "    </tr>\n",
       "    <tr>\n",
       "      <th>2</th>\n",
       "      <td>0.055523</td>\n",
       "      <td>0.050781</td>\n",
       "      <td>0.719283</td>\n",
       "      <td>0.044235</td>\n",
       "      <td>0.063445</td>\n",
       "      <td>0.042205</td>\n",
       "      <td>0.052894</td>\n",
       "      <td>0.044723</td>\n",
       "      <td>0.047596</td>\n",
       "      <td>0.044613</td>\n",
       "      <td>...</td>\n",
       "      <td>0.105965</td>\n",
       "      <td>0.040247</td>\n",
       "      <td>0.090981</td>\n",
       "      <td>0.074723</td>\n",
       "      <td>0.066702</td>\n",
       "      <td>0.081562</td>\n",
       "      <td>0.043364</td>\n",
       "      <td>0.102869</td>\n",
       "      <td>0.029156</td>\n",
       "      <td>0.073472</td>\n",
       "    </tr>\n",
       "    <tr>\n",
       "      <th>3</th>\n",
       "      <td>0.084364</td>\n",
       "      <td>0.034590</td>\n",
       "      <td>0.073099</td>\n",
       "      <td>0.752330</td>\n",
       "      <td>0.058206</td>\n",
       "      <td>0.047438</td>\n",
       "      <td>0.050967</td>\n",
       "      <td>0.050584</td>\n",
       "      <td>0.047189</td>\n",
       "      <td>0.019828</td>\n",
       "      <td>...</td>\n",
       "      <td>0.061692</td>\n",
       "      <td>0.033958</td>\n",
       "      <td>0.075194</td>\n",
       "      <td>0.086510</td>\n",
       "      <td>0.084780</td>\n",
       "      <td>0.094419</td>\n",
       "      <td>0.055029</td>\n",
       "      <td>0.101497</td>\n",
       "      <td>0.038155</td>\n",
       "      <td>0.093984</td>\n",
       "    </tr>\n",
       "    <tr>\n",
       "      <th>4</th>\n",
       "      <td>0.048167</td>\n",
       "      <td>0.029218</td>\n",
       "      <td>0.080724</td>\n",
       "      <td>0.044816</td>\n",
       "      <td>0.777227</td>\n",
       "      <td>0.039446</td>\n",
       "      <td>0.043947</td>\n",
       "      <td>0.041407</td>\n",
       "      <td>0.044930</td>\n",
       "      <td>0.041612</td>\n",
       "      <td>...</td>\n",
       "      <td>0.070137</td>\n",
       "      <td>0.048472</td>\n",
       "      <td>0.068670</td>\n",
       "      <td>0.097870</td>\n",
       "      <td>0.068230</td>\n",
       "      <td>0.092140</td>\n",
       "      <td>0.044359</td>\n",
       "      <td>0.092267</td>\n",
       "      <td>0.031280</td>\n",
       "      <td>0.071822</td>\n",
       "    </tr>\n",
       "  </tbody>\n",
       "</table>\n",
       "<p>5 rows × 100 columns</p>\n",
       "</div>"
      ],
      "text/plain": [
       "   american      away      back    become     begin    belief      best  \\\n",
       "0  0.854777  0.017713  0.063254  0.058162  0.043128  0.036100  0.030696   \n",
       "1  0.030145  0.712920  0.098455  0.040583  0.044522  0.040652  0.042813   \n",
       "2  0.055523  0.050781  0.719283  0.044235  0.063445  0.042205  0.052894   \n",
       "3  0.084364  0.034590  0.073099  0.752330  0.058206  0.047438  0.050967   \n",
       "4  0.048167  0.029218  0.080724  0.044816  0.777227  0.039446  0.043947   \n",
       "\n",
       "        boy   brother       car  ...       way      well      wife     woman  \\\n",
       "0  0.031307  0.042373  0.027569  ...  0.059063  0.040200  0.055166  0.067688   \n",
       "1  0.064080  0.046763  0.056174  ...  0.076136  0.046180  0.083802  0.076661   \n",
       "2  0.044723  0.047596  0.044613  ...  0.105965  0.040247  0.090981  0.074723   \n",
       "3  0.050584  0.047189  0.019828  ...  0.061692  0.033958  0.075194  0.086510   \n",
       "4  0.041407  0.044930  0.041612  ...  0.070137  0.048472  0.068670  0.097870   \n",
       "\n",
       "       work     world     would      year  year old     young  \n",
       "0  0.069012  0.083008  0.035676  0.056955  0.015956  0.083439  \n",
       "1  0.075524  0.074455  0.054319  0.110646  0.037844  0.076778  \n",
       "2  0.066702  0.081562  0.043364  0.102869  0.029156  0.073472  \n",
       "3  0.084780  0.094419  0.055029  0.101497  0.038155  0.093984  \n",
       "4  0.068230  0.092140  0.044359  0.092267  0.031280  0.071822  \n",
       "\n",
       "[5 rows x 100 columns]"
      ]
     },
     "execution_count": 45,
     "metadata": {},
     "output_type": "execute_result"
    }
   ],
   "source": [
    "transformer = TfidfTransformer(norm=\"l2\", smooth_idf=False)\n",
    "idf = pd.DataFrame(transformer.fit_transform(cooccurrence_matrix).toarray(), columns=l)\n",
    "idf.head()"
   ]
  },
  {
   "cell_type": "code",
   "execution_count": 46,
   "metadata": {},
   "outputs": [
    {
     "data": {
      "text/plain": [
       "(100, 100)"
      ]
     },
     "execution_count": 46,
     "metadata": {},
     "output_type": "execute_result"
    }
   ],
   "source": [
    "idf.shape"
   ]
  },
  {
   "cell_type": "code",
   "execution_count": 47,
   "metadata": {},
   "outputs": [
    {
     "data": {
      "text/html": [
       "<div>\n",
       "<style scoped>\n",
       "    .dataframe tbody tr th:only-of-type {\n",
       "        vertical-align: middle;\n",
       "    }\n",
       "\n",
       "    .dataframe tbody tr th {\n",
       "        vertical-align: top;\n",
       "    }\n",
       "\n",
       "    .dataframe thead th {\n",
       "        text-align: right;\n",
       "    }\n",
       "</style>\n",
       "<table border=\"1\" class=\"dataframe\">\n",
       "  <thead>\n",
       "    <tr style=\"text-align: right;\">\n",
       "      <th></th>\n",
       "      <th>x</th>\n",
       "      <th>y</th>\n",
       "      <th>words</th>\n",
       "    </tr>\n",
       "  </thead>\n",
       "  <tbody>\n",
       "    <tr>\n",
       "      <th>0</th>\n",
       "      <td>0.551455</td>\n",
       "      <td>-0.296861</td>\n",
       "      <td>American</td>\n",
       "    </tr>\n",
       "    <tr>\n",
       "      <th>1</th>\n",
       "      <td>0.735097</td>\n",
       "      <td>0.063577</td>\n",
       "      <td>Away</td>\n",
       "    </tr>\n",
       "    <tr>\n",
       "      <th>2</th>\n",
       "      <td>0.759587</td>\n",
       "      <td>-0.032706</td>\n",
       "      <td>Back</td>\n",
       "    </tr>\n",
       "    <tr>\n",
       "      <th>3</th>\n",
       "      <td>0.698663</td>\n",
       "      <td>-0.079835</td>\n",
       "      <td>Become</td>\n",
       "    </tr>\n",
       "    <tr>\n",
       "      <th>4</th>\n",
       "      <td>0.683983</td>\n",
       "      <td>-0.065798</td>\n",
       "      <td>Begin</td>\n",
       "    </tr>\n",
       "  </tbody>\n",
       "</table>\n",
       "</div>"
      ],
      "text/plain": [
       "          x         y     words\n",
       "0  0.551455 -0.296861  American\n",
       "1  0.735097  0.063577      Away\n",
       "2  0.759587 -0.032706      Back\n",
       "3  0.698663 -0.079835    Become\n",
       "4  0.683983 -0.065798     Begin"
      ]
     },
     "execution_count": 47,
     "metadata": {},
     "output_type": "execute_result"
    }
   ],
   "source": [
    "svd = TruncatedSVD(n_components=2, n_iter=7, random_state=42)\n",
    "fm = pd.DataFrame(svd.fit_transform(idf), columns=['x','y'])\n",
    "fm['words'] = l\n",
    "fm['words'] = fm['words'].str.capitalize()\n",
    "fm.head()"
   ]
  },
  {
   "cell_type": "code",
   "execution_count": 48,
   "metadata": {},
   "outputs": [],
   "source": [
    "# contador = p.sum()\n",
    "# con = pd.DataFrame(contador, columns=['Contador']).reset_index()\n",
    "# con = con.rename(columns={'index': 'words'})\n",
    "# con.head()"
   ]
  },
  {
   "cell_type": "code",
   "execution_count": 49,
   "metadata": {},
   "outputs": [],
   "source": [
    "# df_mar = pd.merge(fm, con, on='words')\n",
    "# df_mar['words'] = df_mar['words'].str.capitalize()\n",
    "# df_mar.head()"
   ]
  },
  {
   "cell_type": "code",
   "execution_count": 50,
   "metadata": {},
   "outputs": [],
   "source": [
    "labels={'x':'X-Axis Label',\n",
    "        'y':'Y-Axis Label',\n",
    "        'words':'Word',\n",
    "        'group':'Group'\n",
    "    }"
   ]
  },
  {
   "cell_type": "code",
   "execution_count": 51,
   "metadata": {},
   "outputs": [
    {
     "data": {
      "application/vnd.plotly.v1+json": {
       "config": {
        "plotlyServerURL": "https://plot.ly"
       },
       "data": [
        {
         "hovertemplate": "Word=%{text}<br>X-Axis Label=%{x}<br>Y-Axis Label=%{y}<extra></extra>",
         "legendgroup": "American",
         "marker": {
          "color": "#636efa",
          "symbol": "circle"
         },
         "mode": "markers+text",
         "name": "American",
         "opacity": 0.8,
         "orientation": "v",
         "showlegend": true,
         "text": [
          "American"
         ],
         "textposition": "top center",
         "type": "scatter",
         "x": [
          0.5514552189429952
         ],
         "xaxis": "x",
         "y": [
          -0.2968611882212905
         ],
         "yaxis": "y"
        },
        {
         "hovertemplate": "Word=%{text}<br>X-Axis Label=%{x}<br>Y-Axis Label=%{y}<extra></extra>",
         "legendgroup": "Away",
         "marker": {
          "color": "#EF553B",
          "symbol": "circle"
         },
         "mode": "markers+text",
         "name": "Away",
         "opacity": 0.8,
         "orientation": "v",
         "showlegend": true,
         "text": [
          "Away"
         ],
         "textposition": "top center",
         "type": "scatter",
         "x": [
          0.735096658639953
         ],
         "xaxis": "x",
         "y": [
          0.06357668750662203
         ],
         "yaxis": "y"
        },
        {
         "hovertemplate": "Word=%{text}<br>X-Axis Label=%{x}<br>Y-Axis Label=%{y}<extra></extra>",
         "legendgroup": "Back",
         "marker": {
          "color": "#00cc96",
          "symbol": "circle"
         },
         "mode": "markers+text",
         "name": "Back",
         "opacity": 0.8,
         "orientation": "v",
         "showlegend": true,
         "text": [
          "Back"
         ],
         "textposition": "top center",
         "type": "scatter",
         "x": [
          0.7595870320379625
         ],
         "xaxis": "x",
         "y": [
          -0.032705871137561814
         ],
         "yaxis": "y"
        },
        {
         "hovertemplate": "Word=%{text}<br>X-Axis Label=%{x}<br>Y-Axis Label=%{y}<extra></extra>",
         "legendgroup": "Become",
         "marker": {
          "color": "#ab63fa",
          "symbol": "circle"
         },
         "mode": "markers+text",
         "name": "Become",
         "opacity": 0.8,
         "orientation": "v",
         "showlegend": true,
         "text": [
          "Become"
         ],
         "textposition": "top center",
         "type": "scatter",
         "x": [
          0.6986631175495944
         ],
         "xaxis": "x",
         "y": [
          -0.07983524739018603
         ],
         "yaxis": "y"
        },
        {
         "hovertemplate": "Word=%{text}<br>X-Axis Label=%{x}<br>Y-Axis Label=%{y}<extra></extra>",
         "legendgroup": "Begin",
         "marker": {
          "color": "#FFA15A",
          "symbol": "circle"
         },
         "mode": "markers+text",
         "name": "Begin",
         "opacity": 0.8,
         "orientation": "v",
         "showlegend": true,
         "text": [
          "Begin"
         ],
         "textposition": "top center",
         "type": "scatter",
         "x": [
          0.6839825210304605
         ],
         "xaxis": "x",
         "y": [
          -0.065798278045568
         ],
         "yaxis": "y"
        },
        {
         "hovertemplate": "Word=%{text}<br>X-Axis Label=%{x}<br>Y-Axis Label=%{y}<extra></extra>",
         "legendgroup": "Belief",
         "marker": {
          "color": "#19d3f3",
          "symbol": "circle"
         },
         "mode": "markers+text",
         "name": "Belief",
         "opacity": 0.8,
         "orientation": "v",
         "showlegend": true,
         "text": [
          "Belief"
         ],
         "textposition": "top center",
         "type": "scatter",
         "x": [
          0.7270731754196921
         ],
         "xaxis": "x",
         "y": [
          0.009135796713305127
         ],
         "yaxis": "y"
        },
        {
         "hovertemplate": "Word=%{text}<br>X-Axis Label=%{x}<br>Y-Axis Label=%{y}<extra></extra>",
         "legendgroup": "Best",
         "marker": {
          "color": "#FF6692",
          "symbol": "circle"
         },
         "mode": "markers+text",
         "name": "Best",
         "opacity": 0.8,
         "orientation": "v",
         "showlegend": true,
         "text": [
          "Best"
         ],
         "textposition": "top center",
         "type": "scatter",
         "x": [
          0.7334197148392431
         ],
         "xaxis": "x",
         "y": [
          0.05678084745622233
         ],
         "yaxis": "y"
        },
        {
         "hovertemplate": "Word=%{text}<br>X-Axis Label=%{x}<br>Y-Axis Label=%{y}<extra></extra>",
         "legendgroup": "Boy",
         "marker": {
          "color": "#B6E880",
          "symbol": "circle"
         },
         "mode": "markers+text",
         "name": "Boy",
         "opacity": 0.8,
         "orientation": "v",
         "showlegend": true,
         "text": [
          "Boy"
         ],
         "textposition": "top center",
         "type": "scatter",
         "x": [
          0.6176477459400908
         ],
         "xaxis": "x",
         "y": [
          0.13049633230316157
         ],
         "yaxis": "y"
        },
        {
         "hovertemplate": "Word=%{text}<br>X-Axis Label=%{x}<br>Y-Axis Label=%{y}<extra></extra>",
         "legendgroup": "Brother",
         "marker": {
          "color": "#FF97FF",
          "symbol": "circle"
         },
         "mode": "markers+text",
         "name": "Brother",
         "opacity": 0.8,
         "orientation": "v",
         "showlegend": true,
         "text": [
          "Brother"
         ],
         "textposition": "top center",
         "type": "scatter",
         "x": [
          0.6232265503834834
         ],
         "xaxis": "x",
         "y": [
          0.0880146483152668
         ],
         "yaxis": "y"
        },
        {
         "hovertemplate": "Word=%{text}<br>X-Axis Label=%{x}<br>Y-Axis Label=%{y}<extra></extra>",
         "legendgroup": "Car",
         "marker": {
          "color": "#FECB52",
          "symbol": "circle"
         },
         "mode": "markers+text",
         "name": "Car",
         "opacity": 0.8,
         "orientation": "v",
         "showlegend": true,
         "text": [
          "Car"
         ],
         "textposition": "top center",
         "type": "scatter",
         "x": [
          0.5827360929023544
         ],
         "xaxis": "x",
         "y": [
          0.030802893284754808
         ],
         "yaxis": "y"
        },
        {
         "hovertemplate": "Word=%{text}<br>X-Axis Label=%{x}<br>Y-Axis Label=%{y}<extra></extra>",
         "legendgroup": "Child",
         "marker": {
          "color": "#636efa",
          "symbol": "circle"
         },
         "mode": "markers+text",
         "name": "Child",
         "opacity": 0.8,
         "orientation": "v",
         "showlegend": true,
         "text": [
          "Child"
         ],
         "textposition": "top center",
         "type": "scatter",
         "x": [
          0.6529446913845708
         ],
         "xaxis": "x",
         "y": [
          0.14098658482453738
         ],
         "yaxis": "y"
        },
        {
         "hovertemplate": "Word=%{text}<br>X-Axis Label=%{x}<br>Y-Axis Label=%{y}<extra></extra>",
         "legendgroup": "City",
         "marker": {
          "color": "#EF553B",
          "symbol": "circle"
         },
         "mode": "markers+text",
         "name": "City",
         "opacity": 0.8,
         "orientation": "v",
         "showlegend": true,
         "text": [
          "City"
         ],
         "textposition": "top center",
         "type": "scatter",
         "x": [
          0.640332904226874
         ],
         "xaxis": "x",
         "y": [
          -0.15681534181532772
         ],
         "yaxis": "y"
        },
        {
         "hovertemplate": "Word=%{text}<br>X-Axis Label=%{x}<br>Y-Axis Label=%{y}<extra></extra>",
         "legendgroup": "Come",
         "marker": {
          "color": "#00cc96",
          "symbol": "circle"
         },
         "mode": "markers+text",
         "name": "Come",
         "opacity": 0.8,
         "orientation": "v",
         "showlegend": true,
         "text": [
          "Come"
         ],
         "textposition": "top center",
         "type": "scatter",
         "x": [
          0.7792816589214191
         ],
         "xaxis": "x",
         "y": [
          -0.0013507827427767247
         ],
         "yaxis": "y"
        },
        {
         "hovertemplate": "Word=%{text}<br>X-Axis Label=%{x}<br>Y-Axis Label=%{y}<extra></extra>",
         "legendgroup": "Daughter",
         "marker": {
          "color": "#ab63fa",
          "symbol": "circle"
         },
         "mode": "markers+text",
         "name": "Daughter",
         "opacity": 0.8,
         "orientation": "v",
         "showlegend": true,
         "text": [
          "Daughter"
         ],
         "textposition": "top center",
         "type": "scatter",
         "x": [
          0.7036265734134681
         ],
         "xaxis": "x",
         "y": [
          0.18204002861091859
         ],
         "yaxis": "y"
        },
        {
         "hovertemplate": "Word=%{text}<br>X-Axis Label=%{x}<br>Y-Axis Label=%{y}<extra></extra>",
         "legendgroup": "Day",
         "marker": {
          "color": "#FFA15A",
          "symbol": "circle"
         },
         "mode": "markers+text",
         "name": "Day",
         "opacity": 0.8,
         "orientation": "v",
         "showlegend": true,
         "text": [
          "Day"
         ],
         "textposition": "top center",
         "type": "scatter",
         "x": [
          0.7370791701412173
         ],
         "xaxis": "x",
         "y": [
          -0.0014457276450679693
         ],
         "yaxis": "y"
        },
        {
         "hovertemplate": "Word=%{text}<br>X-Axis Label=%{x}<br>Y-Axis Label=%{y}<extra></extra>",
         "legendgroup": "Death",
         "marker": {
          "color": "#19d3f3",
          "symbol": "circle"
         },
         "mode": "markers+text",
         "name": "Death",
         "opacity": 0.8,
         "orientation": "v",
         "showlegend": true,
         "text": [
          "Death"
         ],
         "textposition": "top center",
         "type": "scatter",
         "x": [
          0.6499135630228282
         ],
         "xaxis": "x",
         "y": [
          -0.01565647193866464
         ],
         "yaxis": "y"
        },
        {
         "hovertemplate": "Word=%{text}<br>X-Axis Label=%{x}<br>Y-Axis Label=%{y}<extra></extra>",
         "legendgroup": "Decides",
         "marker": {
          "color": "#FF6692",
          "symbol": "circle"
         },
         "mode": "markers+text",
         "name": "Decides",
         "opacity": 0.8,
         "orientation": "v",
         "showlegend": true,
         "text": [
          "Decides"
         ],
         "textposition": "top center",
         "type": "scatter",
         "x": [
          0.7552106475936279
         ],
         "xaxis": "x",
         "y": [
          0.05010844603215634
         ],
         "yaxis": "y"
        },
        {
         "hovertemplate": "Word=%{text}<br>X-Axis Label=%{x}<br>Y-Axis Label=%{y}<extra></extra>",
         "legendgroup": "End",
         "marker": {
          "color": "#B6E880",
          "symbol": "circle"
         },
         "mode": "markers+text",
         "name": "End",
         "opacity": 0.8,
         "orientation": "v",
         "showlegend": true,
         "text": [
          "End"
         ],
         "textposition": "top center",
         "type": "scatter",
         "x": [
          0.7273567556458718
         ],
         "xaxis": "x",
         "y": [
          -0.08351246326661291
         ],
         "yaxis": "y"
        },
        {
         "hovertemplate": "Word=%{text}<br>X-Axis Label=%{x}<br>Y-Axis Label=%{y}<extra></extra>",
         "legendgroup": "Escape",
         "marker": {
          "color": "#FF97FF",
          "symbol": "circle"
         },
         "mode": "markers+text",
         "name": "Escape",
         "opacity": 0.8,
         "orientation": "v",
         "showlegend": true,
         "text": [
          "Escape"
         ],
         "textposition": "top center",
         "type": "scatter",
         "x": [
          0.6511299979273178
         ],
         "xaxis": "x",
         "y": [
          -0.08836371317413828
         ],
         "yaxis": "y"
        },
        {
         "hovertemplate": "Word=%{text}<br>X-Axis Label=%{x}<br>Y-Axis Label=%{y}<extra></extra>",
         "legendgroup": "Even",
         "marker": {
          "color": "#FECB52",
          "symbol": "circle"
         },
         "mode": "markers+text",
         "name": "Even",
         "opacity": 0.8,
         "orientation": "v",
         "showlegend": true,
         "text": [
          "Even"
         ],
         "textposition": "top center",
         "type": "scatter",
         "x": [
          0.7513922376759757
         ],
         "xaxis": "x",
         "y": [
          -0.036454874373007096
         ],
         "yaxis": "y"
        },
        {
         "hovertemplate": "Word=%{text}<br>X-Axis Label=%{x}<br>Y-Axis Label=%{y}<extra></extra>",
         "legendgroup": "Fall",
         "marker": {
          "color": "#636efa",
          "symbol": "circle"
         },
         "mode": "markers+text",
         "name": "Fall",
         "opacity": 0.8,
         "orientation": "v",
         "showlegend": true,
         "text": [
          "Fall"
         ],
         "textposition": "top center",
         "type": "scatter",
         "x": [
          0.6989321491485285
         ],
         "xaxis": "x",
         "y": [
          0.01911419287494474
         ],
         "yaxis": "y"
        },
        {
         "hovertemplate": "Word=%{text}<br>X-Axis Label=%{x}<br>Y-Axis Label=%{y}<extra></extra>",
         "legendgroup": "Family",
         "marker": {
          "color": "#EF553B",
          "symbol": "circle"
         },
         "mode": "markers+text",
         "name": "Family",
         "opacity": 0.8,
         "orientation": "v",
         "showlegend": true,
         "text": [
          "Family"
         ],
         "textposition": "top center",
         "type": "scatter",
         "x": [
          0.6981185880440127
         ],
         "xaxis": "x",
         "y": [
          0.2020805833037873
         ],
         "yaxis": "y"
        },
        {
         "hovertemplate": "Word=%{text}<br>X-Axis Label=%{x}<br>Y-Axis Label=%{y}<extra></extra>",
         "legendgroup": "Father",
         "marker": {
          "color": "#00cc96",
          "symbol": "circle"
         },
         "mode": "markers+text",
         "name": "Father",
         "opacity": 0.8,
         "orientation": "v",
         "showlegend": true,
         "text": [
          "Father"
         ],
         "textposition": "top center",
         "type": "scatter",
         "x": [
          0.7337753067356
         ],
         "xaxis": "x",
         "y": [
          0.2518270606418202
         ],
         "yaxis": "y"
        },
        {
         "hovertemplate": "Word=%{text}<br>X-Axis Label=%{x}<br>Y-Axis Label=%{y}<extra></extra>",
         "legendgroup": "Film",
         "marker": {
          "color": "#ab63fa",
          "symbol": "circle"
         },
         "mode": "markers+text",
         "name": "Film",
         "opacity": 0.8,
         "orientation": "v",
         "showlegend": true,
         "text": [
          "Film"
         ],
         "textposition": "top center",
         "type": "scatter",
         "x": [
          0.4436594891840793
         ],
         "xaxis": "x",
         "y": [
          -0.3121049132653198
         ],
         "yaxis": "y"
        },
        {
         "hovertemplate": "Word=%{text}<br>X-Axis Label=%{x}<br>Y-Axis Label=%{y}<extra></extra>",
         "legendgroup": "Find",
         "marker": {
          "color": "#FFA15A",
          "symbol": "circle"
         },
         "mode": "markers+text",
         "name": "Find",
         "opacity": 0.8,
         "orientation": "v",
         "showlegend": true,
         "text": [
          "Find"
         ],
         "textposition": "top center",
         "type": "scatter",
         "x": [
          0.8105572095033149
         ],
         "xaxis": "x",
         "y": [
          -0.034727309686205264
         ],
         "yaxis": "y"
        },
        {
         "hovertemplate": "Word=%{text}<br>X-Axis Label=%{x}<br>Y-Axis Label=%{y}<extra></extra>",
         "legendgroup": "First",
         "marker": {
          "color": "#19d3f3",
          "symbol": "circle"
         },
         "mode": "markers+text",
         "name": "First",
         "opacity": 0.8,
         "orientation": "v",
         "showlegend": true,
         "text": [
          "First"
         ],
         "textposition": "top center",
         "type": "scatter",
         "x": [
          0.7521313713706932
         ],
         "xaxis": "x",
         "y": [
          -0.07487913249789985
         ],
         "yaxis": "y"
        },
        {
         "hovertemplate": "Word=%{text}<br>X-Axis Label=%{x}<br>Y-Axis Label=%{y}<extra></extra>",
         "legendgroup": "Former",
         "marker": {
          "color": "#FF6692",
          "symbol": "circle"
         },
         "mode": "markers+text",
         "name": "Former",
         "opacity": 0.8,
         "orientation": "v",
         "showlegend": true,
         "text": [
          "Former"
         ],
         "textposition": "top center",
         "type": "scatter",
         "x": [
          0.6275254416973617
         ],
         "xaxis": "x",
         "y": [
          -0.04129068409878972
         ],
         "yaxis": "y"
        },
        {
         "hovertemplate": "Word=%{text}<br>X-Axis Label=%{x}<br>Y-Axis Label=%{y}<extra></extra>",
         "legendgroup": "Friend",
         "marker": {
          "color": "#B6E880",
          "symbol": "circle"
         },
         "mode": "markers+text",
         "name": "Friend",
         "opacity": 0.8,
         "orientation": "v",
         "showlegend": true,
         "text": [
          "Friend"
         ],
         "textposition": "top center",
         "type": "scatter",
         "x": [
          0.8133588364835364
         ],
         "xaxis": "x",
         "y": [
          0.061973192170095504
         ],
         "yaxis": "y"
        },
        {
         "hovertemplate": "Word=%{text}<br>X-Axis Label=%{x}<br>Y-Axis Label=%{y}<extra></extra>",
         "legendgroup": "Get",
         "marker": {
          "color": "#FF97FF",
          "symbol": "circle"
         },
         "mode": "markers+text",
         "name": "Get",
         "opacity": 0.8,
         "orientation": "v",
         "showlegend": true,
         "text": [
          "Get"
         ],
         "textposition": "top center",
         "type": "scatter",
         "x": [
          0.8174279942577853
         ],
         "xaxis": "x",
         "y": [
          -0.004990873328897919
         ],
         "yaxis": "y"
        },
        {
         "hovertemplate": "Word=%{text}<br>X-Axis Label=%{x}<br>Y-Axis Label=%{y}<extra></extra>",
         "legendgroup": "Girl",
         "marker": {
          "color": "#FECB52",
          "symbol": "circle"
         },
         "mode": "markers+text",
         "name": "Girl",
         "opacity": 0.8,
         "orientation": "v",
         "showlegend": true,
         "text": [
          "Girl"
         ],
         "textposition": "top center",
         "type": "scatter",
         "x": [
          0.661907168074193
         ],
         "xaxis": "x",
         "y": [
          0.0721381297896928
         ],
         "yaxis": "y"
        },
        {
         "hovertemplate": "Word=%{text}<br>X-Axis Label=%{x}<br>Y-Axis Label=%{y}<extra></extra>",
         "legendgroup": "Give",
         "marker": {
          "color": "#636efa",
          "symbol": "circle"
         },
         "mode": "markers+text",
         "name": "Give",
         "opacity": 0.8,
         "orientation": "v",
         "showlegend": true,
         "text": [
          "Give"
         ],
         "textposition": "top center",
         "type": "scatter",
         "x": [
          0.7410708016958457
         ],
         "xaxis": "x",
         "y": [
          0.015885612358177606
         ],
         "yaxis": "y"
        },
        {
         "hovertemplate": "Word=%{text}<br>X-Axis Label=%{x}<br>Y-Axis Label=%{y}<extra></extra>",
         "legendgroup": "Good",
         "marker": {
          "color": "#EF553B",
          "symbol": "circle"
         },
         "mode": "markers+text",
         "name": "Good",
         "opacity": 0.8,
         "orientation": "v",
         "showlegend": true,
         "text": [
          "Good"
         ],
         "textposition": "top center",
         "type": "scatter",
         "x": [
          0.6929445945098803
         ],
         "xaxis": "x",
         "y": [
          -0.01225310331357316
         ],
         "yaxis": "y"
        },
        {
         "hovertemplate": "Word=%{text}<br>X-Axis Label=%{x}<br>Y-Axis Label=%{y}<extra></extra>",
         "legendgroup": "Group",
         "marker": {
          "color": "#00cc96",
          "symbol": "circle"
         },
         "mode": "markers+text",
         "name": "Group",
         "opacity": 0.8,
         "orientation": "v",
         "showlegend": true,
         "text": [
          "Group"
         ],
         "textposition": "top center",
         "type": "scatter",
         "x": [
          0.565391191063451
         ],
         "xaxis": "x",
         "y": [
          -0.24389648091873511
         ],
         "yaxis": "y"
        },
        {
         "hovertemplate": "Word=%{text}<br>X-Axis Label=%{x}<br>Y-Axis Label=%{y}<extra></extra>",
         "legendgroup": "Help",
         "marker": {
          "color": "#ab63fa",
          "symbol": "circle"
         },
         "mode": "markers+text",
         "name": "Help",
         "opacity": 0.8,
         "orientation": "v",
         "showlegend": true,
         "text": [
          "Help"
         ],
         "textposition": "top center",
         "type": "scatter",
         "x": [
          0.7544363810255801
         ],
         "xaxis": "x",
         "y": [
          -0.04139679185949285
         ],
         "yaxis": "y"
        },
        {
         "hovertemplate": "Word=%{text}<br>X-Axis Label=%{x}<br>Y-Axis Label=%{y}<extra></extra>",
         "legendgroup": "High",
         "marker": {
          "color": "#FFA15A",
          "symbol": "circle"
         },
         "mode": "markers+text",
         "name": "High",
         "opacity": 0.8,
         "orientation": "v",
         "showlegend": true,
         "text": [
          "High"
         ],
         "textposition": "top center",
         "type": "scatter",
         "x": [
          0.6063306870640115
         ],
         "xaxis": "x",
         "y": [
          0.10271846475973767
         ],
         "yaxis": "y"
        },
        {
         "hovertemplate": "Word=%{text}<br>X-Axis Label=%{x}<br>Y-Axis Label=%{y}<extra></extra>",
         "legendgroup": "Home",
         "marker": {
          "color": "#19d3f3",
          "symbol": "circle"
         },
         "mode": "markers+text",
         "name": "Home",
         "opacity": 0.8,
         "orientation": "v",
         "showlegend": true,
         "text": [
          "Home"
         ],
         "textposition": "top center",
         "type": "scatter",
         "x": [
          0.7643032328446515
         ],
         "xaxis": "x",
         "y": [
          0.1274366745208262
         ],
         "yaxis": "y"
        },
        {
         "hovertemplate": "Word=%{text}<br>X-Axis Label=%{x}<br>Y-Axis Label=%{y}<extra></extra>",
         "legendgroup": "House",
         "marker": {
          "color": "#FF6692",
          "symbol": "circle"
         },
         "mode": "markers+text",
         "name": "House",
         "opacity": 0.8,
         "orientation": "v",
         "showlegend": true,
         "text": [
          "House"
         ],
         "textposition": "top center",
         "type": "scatter",
         "x": [
          0.6523913558687905
         ],
         "xaxis": "x",
         "y": [
          0.12055759886999388
         ],
         "yaxis": "y"
        },
        {
         "hovertemplate": "Word=%{text}<br>X-Axis Label=%{x}<br>Y-Axis Label=%{y}<extra></extra>",
         "legendgroup": "However",
         "marker": {
          "color": "#B6E880",
          "symbol": "circle"
         },
         "mode": "markers+text",
         "name": "However",
         "opacity": 0.8,
         "orientation": "v",
         "showlegend": true,
         "text": [
          "However"
         ],
         "textposition": "top center",
         "type": "scatter",
         "x": [
          0.751391653112618
         ],
         "xaxis": "x",
         "y": [
          -0.05784682392761004
         ],
         "yaxis": "y"
        },
        {
         "hovertemplate": "Word=%{text}<br>X-Axis Label=%{x}<br>Y-Axis Label=%{y}<extra></extra>",
         "legendgroup": "Husband",
         "marker": {
          "color": "#FF97FF",
          "symbol": "circle"
         },
         "mode": "markers+text",
         "name": "Husband",
         "opacity": 0.8,
         "orientation": "v",
         "showlegend": true,
         "text": [
          "Husband"
         ],
         "textposition": "top center",
         "type": "scatter",
         "x": [
          0.6608725037663212
         ],
         "xaxis": "x",
         "y": [
          0.16105976761362295
         ],
         "yaxis": "y"
        },
        {
         "hovertemplate": "Word=%{text}<br>X-Axis Label=%{x}<br>Y-Axis Label=%{y}<extra></extra>",
         "legendgroup": "Job",
         "marker": {
          "color": "#FECB52",
          "symbol": "circle"
         },
         "mode": "markers+text",
         "name": "Job",
         "opacity": 0.8,
         "orientation": "v",
         "showlegend": true,
         "text": [
          "Job"
         ],
         "textposition": "top center",
         "type": "scatter",
         "x": [
          0.701558573656323
         ],
         "xaxis": "x",
         "y": [
          0.033510129006298614
         ],
         "yaxis": "y"
        },
        {
         "hovertemplate": "Word=%{text}<br>X-Axis Label=%{x}<br>Y-Axis Label=%{y}<extra></extra>",
         "legendgroup": "Kill",
         "marker": {
          "color": "#636efa",
          "symbol": "circle"
         },
         "mode": "markers+text",
         "name": "Kill",
         "opacity": 0.8,
         "orientation": "v",
         "showlegend": true,
         "text": [
          "Kill"
         ],
         "textposition": "top center",
         "type": "scatter",
         "x": [
          0.6844572254381459
         ],
         "xaxis": "x",
         "y": [
          -0.060667137927953904
         ],
         "yaxis": "y"
        },
        {
         "hovertemplate": "Word=%{text}<br>X-Axis Label=%{x}<br>Y-Axis Label=%{y}<extra></extra>",
         "legendgroup": "Know",
         "marker": {
          "color": "#EF553B",
          "symbol": "circle"
         },
         "mode": "markers+text",
         "name": "Know",
         "opacity": 0.8,
         "orientation": "v",
         "showlegend": true,
         "text": [
          "Know"
         ],
         "textposition": "top center",
         "type": "scatter",
         "x": [
          0.7641809560382573
         ],
         "xaxis": "x",
         "y": [
          -0.014131341993180677
         ],
         "yaxis": "y"
        },
        {
         "hovertemplate": "Word=%{text}<br>X-Axis Label=%{x}<br>Y-Axis Label=%{y}<extra></extra>",
         "legendgroup": "Later",
         "marker": {
          "color": "#00cc96",
          "symbol": "circle"
         },
         "mode": "markers+text",
         "name": "Later",
         "opacity": 0.8,
         "orientation": "v",
         "showlegend": true,
         "text": [
          "Later"
         ],
         "textposition": "top center",
         "type": "scatter",
         "x": [
          0.7372931962255428
         ],
         "xaxis": "x",
         "y": [
          0.04276231795096303
         ],
         "yaxis": "y"
        },
        {
         "hovertemplate": "Word=%{text}<br>X-Axis Label=%{x}<br>Y-Axis Label=%{y}<extra></extra>",
         "legendgroup": "Lead",
         "marker": {
          "color": "#ab63fa",
          "symbol": "circle"
         },
         "mode": "markers+text",
         "name": "Lead",
         "opacity": 0.8,
         "orientation": "v",
         "showlegend": true,
         "text": [
          "Lead"
         ],
         "textposition": "top center",
         "type": "scatter",
         "x": [
          0.6809327023184253
         ],
         "xaxis": "x",
         "y": [
          -0.11887075850425201
         ],
         "yaxis": "y"
        },
        {
         "hovertemplate": "Word=%{text}<br>X-Axis Label=%{x}<br>Y-Axis Label=%{y}<extra></extra>",
         "legendgroup": "Learns",
         "marker": {
          "color": "#FFA15A",
          "symbol": "circle"
         },
         "mode": "markers+text",
         "name": "Learns",
         "opacity": 0.8,
         "orientation": "v",
         "showlegend": true,
         "text": [
          "Learns"
         ],
         "textposition": "top center",
         "type": "scatter",
         "x": [
          0.7558194255272547
         ],
         "xaxis": "x",
         "y": [
          0.00981753247235767
         ],
         "yaxis": "y"
        },
        {
         "hovertemplate": "Word=%{text}<br>X-Axis Label=%{x}<br>Y-Axis Label=%{y}<extra></extra>",
         "legendgroup": "Life",
         "marker": {
          "color": "#19d3f3",
          "symbol": "circle"
         },
         "mode": "markers+text",
         "name": "Life",
         "opacity": 0.8,
         "orientation": "v",
         "showlegend": true,
         "text": [
          "Life"
         ],
         "textposition": "top center",
         "type": "scatter",
         "x": [
          0.8058232041322714
         ],
         "xaxis": "x",
         "y": [
          0.04640511084027433
         ],
         "yaxis": "y"
        },
        {
         "hovertemplate": "Word=%{text}<br>X-Axis Label=%{x}<br>Y-Axis Label=%{y}<extra></extra>",
         "legendgroup": "Like",
         "marker": {
          "color": "#FF6692",
          "symbol": "circle"
         },
         "mode": "markers+text",
         "name": "Like",
         "opacity": 0.8,
         "orientation": "v",
         "showlegend": true,
         "text": [
          "Like"
         ],
         "textposition": "top center",
         "type": "scatter",
         "x": [
          0.7427277682182385
         ],
         "xaxis": "x",
         "y": [
          0.02221465518667015
         ],
         "yaxis": "y"
        },
        {
         "hovertemplate": "Word=%{text}<br>X-Axis Label=%{x}<br>Y-Axis Label=%{y}<extra></extra>",
         "legendgroup": "Local",
         "marker": {
          "color": "#B6E880",
          "symbol": "circle"
         },
         "mode": "markers+text",
         "name": "Local",
         "opacity": 0.8,
         "orientation": "v",
         "showlegend": true,
         "text": [
          "Local"
         ],
         "textposition": "top center",
         "type": "scatter",
         "x": [
          0.6434602947759127
         ],
         "xaxis": "x",
         "y": [
          -0.024148522462970293
         ],
         "yaxis": "y"
        },
        {
         "hovertemplate": "Word=%{text}<br>X-Axis Label=%{x}<br>Y-Axis Label=%{y}<extra></extra>",
         "legendgroup": "Long",
         "marker": {
          "color": "#FF97FF",
          "symbol": "circle"
         },
         "mode": "markers+text",
         "name": "Long",
         "opacity": 0.8,
         "orientation": "v",
         "showlegend": true,
         "text": [
          "Long"
         ],
         "textposition": "top center",
         "type": "scatter",
         "x": [
          0.7188486660865464
         ],
         "xaxis": "x",
         "y": [
          0.021346927971914578
         ],
         "yaxis": "y"
        },
        {
         "hovertemplate": "Word=%{text}<br>X-Axis Label=%{x}<br>Y-Axis Label=%{y}<extra></extra>",
         "legendgroup": "Love",
         "marker": {
          "color": "#FECB52",
          "symbol": "circle"
         },
         "mode": "markers+text",
         "name": "Love",
         "opacity": 0.8,
         "orientation": "v",
         "showlegend": true,
         "text": [
          "Love"
         ],
         "textposition": "top center",
         "type": "scatter",
         "x": [
          0.7535266921662744
         ],
         "xaxis": "x",
         "y": [
          0.04601989277226133
         ],
         "yaxis": "y"
        },
        {
         "hovertemplate": "Word=%{text}<br>X-Axis Label=%{x}<br>Y-Axis Label=%{y}<extra></extra>",
         "legendgroup": "Make",
         "marker": {
          "color": "#636efa",
          "symbol": "circle"
         },
         "mode": "markers+text",
         "name": "Make",
         "opacity": 0.8,
         "orientation": "v",
         "showlegend": true,
         "text": [
          "Make"
         ],
         "textposition": "top center",
         "type": "scatter",
         "x": [
          0.8078671958609944
         ],
         "xaxis": "x",
         "y": [
          -0.031428999637598716
         ],
         "yaxis": "y"
        },
        {
         "hovertemplate": "Word=%{text}<br>X-Axis Label=%{x}<br>Y-Axis Label=%{y}<extra></extra>",
         "legendgroup": "Man",
         "marker": {
          "color": "#EF553B",
          "symbol": "circle"
         },
         "mode": "markers+text",
         "name": "Man",
         "opacity": 0.8,
         "orientation": "v",
         "showlegend": true,
         "text": [
          "Man"
         ],
         "textposition": "top center",
         "type": "scatter",
         "x": [
          0.7509726787088414
         ],
         "xaxis": "x",
         "y": [
          -0.09583118934993655
         ],
         "yaxis": "y"
        },
        {
         "hovertemplate": "Word=%{text}<br>X-Axis Label=%{x}<br>Y-Axis Label=%{y}<extra></extra>",
         "legendgroup": "Meet",
         "marker": {
          "color": "#00cc96",
          "symbol": "circle"
         },
         "mode": "markers+text",
         "name": "Meet",
         "opacity": 0.8,
         "orientation": "v",
         "showlegend": true,
         "text": [
          "Meet"
         ],
         "textposition": "top center",
         "type": "scatter",
         "x": [
          0.8002233471554373
         ],
         "xaxis": "x",
         "y": [
          0.03505695139363729
         ],
         "yaxis": "y"
        },
        {
         "hovertemplate": "Word=%{text}<br>X-Axis Label=%{x}<br>Y-Axis Label=%{y}<extra></extra>",
         "legendgroup": "Men",
         "marker": {
          "color": "#ab63fa",
          "symbol": "circle"
         },
         "mode": "markers+text",
         "name": "Men",
         "opacity": 0.8,
         "orientation": "v",
         "showlegend": true,
         "text": [
          "Men"
         ],
         "textposition": "top center",
         "type": "scatter",
         "x": [
          0.6101140213664191
         ],
         "xaxis": "x",
         "y": [
          -0.21900874898568282
         ],
         "yaxis": "y"
        },
        {
         "hovertemplate": "Word=%{text}<br>X-Axis Label=%{x}<br>Y-Axis Label=%{y}<extra></extra>",
         "legendgroup": "Money",
         "marker": {
          "color": "#FFA15A",
          "symbol": "circle"
         },
         "mode": "markers+text",
         "name": "Money",
         "opacity": 0.8,
         "orientation": "v",
         "showlegend": true,
         "text": [
          "Money"
         ],
         "textposition": "top center",
         "type": "scatter",
         "x": [
          0.6686543290541743
         ],
         "xaxis": "x",
         "y": [
          0.02703289506090284
         ],
         "yaxis": "y"
        },
        {
         "hovertemplate": "Word=%{text}<br>X-Axis Label=%{x}<br>Y-Axis Label=%{y}<extra></extra>",
         "legendgroup": "Mother",
         "marker": {
          "color": "#19d3f3",
          "symbol": "circle"
         },
         "mode": "markers+text",
         "name": "Mother",
         "opacity": 0.8,
         "orientation": "v",
         "showlegend": true,
         "text": [
          "Mother"
         ],
         "textposition": "top center",
         "type": "scatter",
         "x": [
          0.7171974228336335
         ],
         "xaxis": "x",
         "y": [
          0.3036100566296637
         ],
         "yaxis": "y"
        },
        {
         "hovertemplate": "Word=%{text}<br>X-Axis Label=%{x}<br>Y-Axis Label=%{y}<extra></extra>",
         "legendgroup": "Movie",
         "marker": {
          "color": "#FF6692",
          "symbol": "circle"
         },
         "mode": "markers+text",
         "name": "Movie",
         "opacity": 0.8,
         "orientation": "v",
         "showlegend": true,
         "text": [
          "Movie"
         ],
         "textposition": "top center",
         "type": "scatter",
         "x": [
          0.46825861859504375
         ],
         "xaxis": "x",
         "y": [
          -0.1878630225309174
         ],
         "yaxis": "y"
        },
        {
         "hovertemplate": "Word=%{text}<br>X-Axis Label=%{x}<br>Y-Axis Label=%{y}<extra></extra>",
         "legendgroup": "Murder",
         "marker": {
          "color": "#B6E880",
          "symbol": "circle"
         },
         "mode": "markers+text",
         "name": "Murder",
         "opacity": 0.8,
         "orientation": "v",
         "showlegend": true,
         "text": [
          "Murder"
         ],
         "textposition": "top center",
         "type": "scatter",
         "x": [
          0.5650842705712817
         ],
         "xaxis": "x",
         "y": [
          -0.09480200845859658
         ],
         "yaxis": "y"
        },
        {
         "hovertemplate": "Word=%{text}<br>X-Axis Label=%{x}<br>Y-Axis Label=%{y}<extra></extra>",
         "legendgroup": "Must",
         "marker": {
          "color": "#FF97FF",
          "symbol": "circle"
         },
         "mode": "markers+text",
         "name": "Must",
         "opacity": 0.8,
         "orientation": "v",
         "showlegend": true,
         "text": [
          "Must"
         ],
         "textposition": "top center",
         "type": "scatter",
         "x": [
          0.609550963510211
         ],
         "xaxis": "x",
         "y": [
          -0.13013970761088214
         ],
         "yaxis": "y"
        },
        {
         "hovertemplate": "Word=%{text}<br>X-Axis Label=%{x}<br>Y-Axis Label=%{y}<extra></extra>",
         "legendgroup": "Named",
         "marker": {
          "color": "#FECB52",
          "symbol": "circle"
         },
         "mode": "markers+text",
         "name": "Named",
         "opacity": 0.8,
         "orientation": "v",
         "showlegend": true,
         "text": [
          "Named"
         ],
         "textposition": "top center",
         "type": "scatter",
         "x": [
          0.7405311455148406
         ],
         "xaxis": "x",
         "y": [
          -0.06440352870162218
         ],
         "yaxis": "y"
        },
        {
         "hovertemplate": "Word=%{text}<br>X-Axis Label=%{x}<br>Y-Axis Label=%{y}<extra></extra>",
         "legendgroup": "New",
         "marker": {
          "color": "#636efa",
          "symbol": "circle"
         },
         "mode": "markers+text",
         "name": "New",
         "opacity": 0.8,
         "orientation": "v",
         "showlegend": true,
         "text": [
          "New"
         ],
         "textposition": "top center",
         "type": "scatter",
         "x": [
          0.799924629765775
         ],
         "xaxis": "x",
         "y": [
          -0.014742611941406754
         ],
         "yaxis": "y"
        },
        {
         "hovertemplate": "Word=%{text}<br>X-Axis Label=%{x}<br>Y-Axis Label=%{y}<extra></extra>",
         "legendgroup": "Night",
         "marker": {
          "color": "#EF553B",
          "symbol": "circle"
         },
         "mode": "markers+text",
         "name": "Night",
         "opacity": 0.8,
         "orientation": "v",
         "showlegend": true,
         "text": [
          "Night"
         ],
         "textposition": "top center",
         "type": "scatter",
         "x": [
          0.644687804838587
         ],
         "xaxis": "x",
         "y": [
          -0.005906268010448382
         ],
         "yaxis": "y"
        },
        {
         "hovertemplate": "Word=%{text}<br>X-Axis Label=%{x}<br>Y-Axis Label=%{y}<extra></extra>",
         "legendgroup": "Old",
         "marker": {
          "color": "#00cc96",
          "symbol": "circle"
         },
         "mode": "markers+text",
         "name": "Old",
         "opacity": 0.8,
         "orientation": "v",
         "showlegend": true,
         "text": [
          "Old"
         ],
         "textposition": "top center",
         "type": "scatter",
         "x": [
          0.769058101337685
         ],
         "xaxis": "x",
         "y": [
          0.31071969286610784
         ],
         "yaxis": "y"
        },
        {
         "hovertemplate": "Word=%{text}<br>X-Axis Label=%{x}<br>Y-Axis Label=%{y}<extra></extra>",
         "legendgroup": "People",
         "marker": {
          "color": "#ab63fa",
          "symbol": "circle"
         },
         "mode": "markers+text",
         "name": "People",
         "opacity": 0.8,
         "orientation": "v",
         "showlegend": true,
         "text": [
          "People"
         ],
         "textposition": "top center",
         "type": "scatter",
         "x": [
          0.6916098165382751
         ],
         "xaxis": "x",
         "y": [
          -0.16428611393359493
         ],
         "yaxis": "y"
        },
        {
         "hovertemplate": "Word=%{text}<br>X-Axis Label=%{x}<br>Y-Axis Label=%{y}<extra></extra>",
         "legendgroup": "Plan",
         "marker": {
          "color": "#FFA15A",
          "symbol": "circle"
         },
         "mode": "markers+text",
         "name": "Plan",
         "opacity": 0.8,
         "orientation": "v",
         "showlegend": true,
         "text": [
          "Plan"
         ],
         "textposition": "top center",
         "type": "scatter",
         "x": [
          0.660220493803901
         ],
         "xaxis": "x",
         "y": [
          -0.10327328023182372
         ],
         "yaxis": "y"
        },
        {
         "hovertemplate": "Word=%{text}<br>X-Axis Label=%{x}<br>Y-Axis Label=%{y}<extra></extra>",
         "legendgroup": "Police",
         "marker": {
          "color": "#19d3f3",
          "symbol": "circle"
         },
         "mode": "markers+text",
         "name": "Police",
         "opacity": 0.8,
         "orientation": "v",
         "showlegend": true,
         "text": [
          "Police"
         ],
         "textposition": "top center",
         "type": "scatter",
         "x": [
          0.6067518699652503
         ],
         "xaxis": "x",
         "y": [
          -0.108861080304569
         ],
         "yaxis": "y"
        },
        {
         "hovertemplate": "Word=%{text}<br>X-Axis Label=%{x}<br>Y-Axis Label=%{y}<extra></extra>",
         "legendgroup": "Relationship",
         "marker": {
          "color": "#FF6692",
          "symbol": "circle"
         },
         "mode": "markers+text",
         "name": "Relationship",
         "opacity": 0.8,
         "orientation": "v",
         "showlegend": true,
         "text": [
          "Relationship"
         ],
         "textposition": "top center",
         "type": "scatter",
         "x": [
          0.6863103129448658
         ],
         "xaxis": "x",
         "y": [
          0.08258825594964994
         ],
         "yaxis": "y"
        },
        {
         "hovertemplate": "Word=%{text}<br>X-Axis Label=%{x}<br>Y-Axis Label=%{y}<extra></extra>",
         "legendgroup": "Return",
         "marker": {
          "color": "#B6E880",
          "symbol": "circle"
         },
         "mode": "markers+text",
         "name": "Return",
         "opacity": 0.8,
         "orientation": "v",
         "showlegend": true,
         "text": [
          "Return"
         ],
         "textposition": "top center",
         "type": "scatter",
         "x": [
          0.6984117729875954
         ],
         "xaxis": "x",
         "y": [
          0.03658790292045569
         ],
         "yaxis": "y"
        },
        {
         "hovertemplate": "Word=%{text}<br>X-Axis Label=%{x}<br>Y-Axis Label=%{y}<extra></extra>",
         "legendgroup": "Run",
         "marker": {
          "color": "#FF97FF",
          "symbol": "circle"
         },
         "mode": "markers+text",
         "name": "Run",
         "opacity": 0.8,
         "orientation": "v",
         "showlegend": true,
         "text": [
          "Run"
         ],
         "textposition": "top center",
         "type": "scatter",
         "x": [
          0.6680089646283914
         ],
         "xaxis": "x",
         "y": [
          0.022943769400980363
         ],
         "yaxis": "y"
        },
        {
         "hovertemplate": "Word=%{text}<br>X-Axis Label=%{x}<br>Y-Axis Label=%{y}<extra></extra>",
         "legendgroup": "School",
         "marker": {
          "color": "#FECB52",
          "symbol": "circle"
         },
         "mode": "markers+text",
         "name": "School",
         "opacity": 0.8,
         "orientation": "v",
         "showlegend": true,
         "text": [
          "School"
         ],
         "textposition": "top center",
         "type": "scatter",
         "x": [
          0.5956440135330919
         ],
         "xaxis": "x",
         "y": [
          0.1862157035391898
         ],
         "yaxis": "y"
        },
        {
         "hovertemplate": "Word=%{text}<br>X-Axis Label=%{x}<br>Y-Axis Label=%{y}<extra></extra>",
         "legendgroup": "Secret",
         "marker": {
          "color": "#636efa",
          "symbol": "circle"
         },
         "mode": "markers+text",
         "name": "Secret",
         "opacity": 0.8,
         "orientation": "v",
         "showlegend": true,
         "text": [
          "Secret"
         ],
         "textposition": "top center",
         "type": "scatter",
         "x": [
          0.6005554768036594
         ],
         "xaxis": "x",
         "y": [
          -0.12105689866846568
         ],
         "yaxis": "y"
        },
        {
         "hovertemplate": "Word=%{text}<br>X-Axis Label=%{x}<br>Y-Axis Label=%{y}<extra></extra>",
         "legendgroup": "See",
         "marker": {
          "color": "#EF553B",
          "symbol": "circle"
         },
         "mode": "markers+text",
         "name": "See",
         "opacity": 0.8,
         "orientation": "v",
         "showlegend": true,
         "text": [
          "See"
         ],
         "textposition": "top center",
         "type": "scatter",
         "x": [
          0.7820155020311862
         ],
         "xaxis": "x",
         "y": [
          0.0254266044981946
         ],
         "yaxis": "y"
        },
        {
         "hovertemplate": "Word=%{text}<br>X-Axis Label=%{x}<br>Y-Axis Label=%{y}<extra></extra>",
         "legendgroup": "Set",
         "marker": {
          "color": "#00cc96",
          "symbol": "circle"
         },
         "mode": "markers+text",
         "name": "Set",
         "opacity": 0.8,
         "orientation": "v",
         "showlegend": true,
         "text": [
          "Set"
         ],
         "textposition": "top center",
         "type": "scatter",
         "x": [
          0.6565590096737318
         ],
         "xaxis": "x",
         "y": [
          -0.15423304700624338
         ],
         "yaxis": "y"
        },
        {
         "hovertemplate": "Word=%{text}<br>X-Axis Label=%{x}<br>Y-Axis Label=%{y}<extra></extra>",
         "legendgroup": "Show",
         "marker": {
          "color": "#ab63fa",
          "symbol": "circle"
         },
         "mode": "markers+text",
         "name": "Show",
         "opacity": 0.8,
         "orientation": "v",
         "showlegend": true,
         "text": [
          "Show"
         ],
         "textposition": "top center",
         "type": "scatter",
         "x": [
          0.613379736583016
         ],
         "xaxis": "x",
         "y": [
          -0.05044562416886374
         ],
         "yaxis": "y"
        },
        {
         "hovertemplate": "Word=%{text}<br>X-Axis Label=%{x}<br>Y-Axis Label=%{y}<extra></extra>",
         "legendgroup": "Sister",
         "marker": {
          "color": "#FFA15A",
          "symbol": "circle"
         },
         "mode": "markers+text",
         "name": "Sister",
         "opacity": 0.8,
         "orientation": "v",
         "showlegend": true,
         "text": [
          "Sister"
         ],
         "textposition": "top center",
         "type": "scatter",
         "x": [
          0.6169404417188442
         ],
         "xaxis": "x",
         "y": [
          0.19777231406584245
         ],
         "yaxis": "y"
        },
        {
         "hovertemplate": "Word=%{text}<br>X-Axis Label=%{x}<br>Y-Axis Label=%{y}<extra></extra>",
         "legendgroup": "Son",
         "marker": {
          "color": "#19d3f3",
          "symbol": "circle"
         },
         "mode": "markers+text",
         "name": "Son",
         "opacity": 0.8,
         "orientation": "v",
         "showlegend": true,
         "text": [
          "Son"
         ],
         "textposition": "top center",
         "type": "scatter",
         "x": [
          0.7118302356575084
         ],
         "xaxis": "x",
         "y": [
          0.21606994162566834
         ],
         "yaxis": "y"
        },
        {
         "hovertemplate": "Word=%{text}<br>X-Axis Label=%{x}<br>Y-Axis Label=%{y}<extra></extra>",
         "legendgroup": "Soon",
         "marker": {
          "color": "#FF6692",
          "symbol": "circle"
         },
         "mode": "markers+text",
         "name": "Soon",
         "opacity": 0.8,
         "orientation": "v",
         "showlegend": true,
         "text": [
          "Soon"
         ],
         "textposition": "top center",
         "type": "scatter",
         "x": [
          0.7337505355441283
         ],
         "xaxis": "x",
         "y": [
          -0.01048335216692403
         ],
         "yaxis": "y"
        },
        {
         "hovertemplate": "Word=%{text}<br>X-Axis Label=%{x}<br>Y-Axis Label=%{y}<extra></extra>",
         "legendgroup": "Start",
         "marker": {
          "color": "#B6E880",
          "symbol": "circle"
         },
         "mode": "markers+text",
         "name": "Start",
         "opacity": 0.8,
         "orientation": "v",
         "showlegend": true,
         "text": [
          "Start"
         ],
         "textposition": "top center",
         "type": "scatter",
         "x": [
          0.7030500600125695
         ],
         "xaxis": "x",
         "y": [
          -0.03346518179043247
         ],
         "yaxis": "y"
        },
        {
         "hovertemplate": "Word=%{text}<br>X-Axis Label=%{x}<br>Y-Axis Label=%{y}<extra></extra>",
         "legendgroup": "Story",
         "marker": {
          "color": "#FF97FF",
          "symbol": "circle"
         },
         "mode": "markers+text",
         "name": "Story",
         "opacity": 0.8,
         "orientation": "v",
         "showlegend": true,
         "text": [
          "Story"
         ],
         "textposition": "top center",
         "type": "scatter",
         "x": [
          0.5961381870134808
         ],
         "xaxis": "x",
         "y": [
          -0.16468314113540145
         ],
         "yaxis": "y"
        },
        {
         "hovertemplate": "Word=%{text}<br>X-Axis Label=%{x}<br>Y-Axis Label=%{y}<extra></extra>",
         "legendgroup": "Take",
         "marker": {
          "color": "#FECB52",
          "symbol": "circle"
         },
         "mode": "markers+text",
         "name": "Take",
         "opacity": 0.8,
         "orientation": "v",
         "showlegend": true,
         "text": [
          "Take"
         ],
         "textposition": "top center",
         "type": "scatter",
         "x": [
          0.7877639202915266
         ],
         "xaxis": "x",
         "y": [
          -0.051514961438643335
         ],
         "yaxis": "y"
        },
        {
         "hovertemplate": "Word=%{text}<br>X-Axis Label=%{x}<br>Y-Axis Label=%{y}<extra></extra>",
         "legendgroup": "Team",
         "marker": {
          "color": "#636efa",
          "symbol": "circle"
         },
         "mode": "markers+text",
         "name": "Team",
         "opacity": 0.8,
         "orientation": "v",
         "showlegend": true,
         "text": [
          "Team"
         ],
         "textposition": "top center",
         "type": "scatter",
         "x": [
          0.47387739090182274
         ],
         "xaxis": "x",
         "y": [
          -0.15981829192195235
         ],
         "yaxis": "y"
        },
        {
         "hovertemplate": "Word=%{text}<br>X-Axis Label=%{x}<br>Y-Axis Label=%{y}<extra></extra>",
         "legendgroup": "Tell",
         "marker": {
          "color": "#EF553B",
          "symbol": "circle"
         },
         "mode": "markers+text",
         "name": "Tell",
         "opacity": 0.8,
         "orientation": "v",
         "showlegend": true,
         "text": [
          "Tell"
         ],
         "textposition": "top center",
         "type": "scatter",
         "x": [
          0.7304890360146044
         ],
         "xaxis": "x",
         "y": [
          -0.02719372076980822
         ],
         "yaxis": "y"
        },
        {
         "hovertemplate": "Word=%{text}<br>X-Axis Label=%{x}<br>Y-Axis Label=%{y}<extra></extra>",
         "legendgroup": "Thing",
         "marker": {
          "color": "#00cc96",
          "symbol": "circle"
         },
         "mode": "markers+text",
         "name": "Thing",
         "opacity": 0.8,
         "orientation": "v",
         "showlegend": true,
         "text": [
          "Thing"
         ],
         "textposition": "top center",
         "type": "scatter",
         "x": [
          0.7362026795536714
         ],
         "xaxis": "x",
         "y": [
          0.012951875548336782
         ],
         "yaxis": "y"
        },
        {
         "hovertemplate": "Word=%{text}<br>X-Axis Label=%{x}<br>Y-Axis Label=%{y}<extra></extra>",
         "legendgroup": "Time",
         "marker": {
          "color": "#ab63fa",
          "symbol": "circle"
         },
         "mode": "markers+text",
         "name": "Time",
         "opacity": 0.8,
         "orientation": "v",
         "showlegend": true,
         "text": [
          "Time"
         ],
         "textposition": "top center",
         "type": "scatter",
         "x": [
          0.7702264107923221
         ],
         "xaxis": "x",
         "y": [
          -0.06641882004247252
         ],
         "yaxis": "y"
        },
        {
         "hovertemplate": "Word=%{text}<br>X-Axis Label=%{x}<br>Y-Axis Label=%{y}<extra></extra>",
         "legendgroup": "Together",
         "marker": {
          "color": "#FFA15A",
          "symbol": "circle"
         },
         "mode": "markers+text",
         "name": "Together",
         "opacity": 0.8,
         "orientation": "v",
         "showlegend": true,
         "text": [
          "Together"
         ],
         "textposition": "top center",
         "type": "scatter",
         "x": [
          0.7274763546314226
         ],
         "xaxis": "x",
         "y": [
          -0.013316646277826286
         ],
         "yaxis": "y"
        },
        {
         "hovertemplate": "Word=%{text}<br>X-Axis Label=%{x}<br>Y-Axis Label=%{y}<extra></extra>",
         "legendgroup": "Town",
         "marker": {
          "color": "#19d3f3",
          "symbol": "circle"
         },
         "mode": "markers+text",
         "name": "Town",
         "opacity": 0.8,
         "orientation": "v",
         "showlegend": true,
         "text": [
          "Town"
         ],
         "textposition": "top center",
         "type": "scatter",
         "x": [
          0.6162609841372001
         ],
         "xaxis": "x",
         "y": [
          -0.009352953210464435
         ],
         "yaxis": "y"
        },
        {
         "hovertemplate": "Word=%{text}<br>X-Axis Label=%{x}<br>Y-Axis Label=%{y}<extra></extra>",
         "legendgroup": "Try",
         "marker": {
          "color": "#FF6692",
          "symbol": "circle"
         },
         "mode": "markers+text",
         "name": "Try",
         "opacity": 0.8,
         "orientation": "v",
         "showlegend": true,
         "text": [
          "Try"
         ],
         "textposition": "top center",
         "type": "scatter",
         "x": [
          0.7558162859428624
         ],
         "xaxis": "x",
         "y": [
          -0.03406516077611875
         ],
         "yaxis": "y"
        },
        {
         "hovertemplate": "Word=%{text}<br>X-Axis Label=%{x}<br>Y-Axis Label=%{y}<extra></extra>",
         "legendgroup": "Turn",
         "marker": {
          "color": "#B6E880",
          "symbol": "circle"
         },
         "mode": "markers+text",
         "name": "Turn",
         "opacity": 0.8,
         "orientation": "v",
         "showlegend": true,
         "text": [
          "Turn"
         ],
         "textposition": "top center",
         "type": "scatter",
         "x": [
          0.713633542992066
         ],
         "xaxis": "x",
         "y": [
          -0.10388639155651458
         ],
         "yaxis": "y"
        },
        {
         "hovertemplate": "Word=%{text}<br>X-Axis Label=%{x}<br>Y-Axis Label=%{y}<extra></extra>",
         "legendgroup": "Want",
         "marker": {
          "color": "#FF97FF",
          "symbol": "circle"
         },
         "mode": "markers+text",
         "name": "Want",
         "opacity": 0.8,
         "orientation": "v",
         "showlegend": true,
         "text": [
          "Want"
         ],
         "textposition": "top center",
         "type": "scatter",
         "x": [
          0.7930025143040802
         ],
         "xaxis": "x",
         "y": [
          0.04094142484618517
         ],
         "yaxis": "y"
        },
        {
         "hovertemplate": "Word=%{text}<br>X-Axis Label=%{x}<br>Y-Axis Label=%{y}<extra></extra>",
         "legendgroup": "War",
         "marker": {
          "color": "#FECB52",
          "symbol": "circle"
         },
         "mode": "markers+text",
         "name": "War",
         "opacity": 0.8,
         "orientation": "v",
         "showlegend": true,
         "text": [
          "War"
         ],
         "textposition": "top center",
         "type": "scatter",
         "x": [
          0.5434071223125916
         ],
         "xaxis": "x",
         "y": [
          -0.32615901775479506
         ],
         "yaxis": "y"
        },
        {
         "hovertemplate": "Word=%{text}<br>X-Axis Label=%{x}<br>Y-Axis Label=%{y}<extra></extra>",
         "legendgroup": "Way",
         "marker": {
          "color": "#636efa",
          "symbol": "circle"
         },
         "mode": "markers+text",
         "name": "Way",
         "opacity": 0.8,
         "orientation": "v",
         "showlegend": true,
         "text": [
          "Way"
         ],
         "textposition": "top center",
         "type": "scatter",
         "x": [
          0.754217437922158
         ],
         "xaxis": "x",
         "y": [
          -0.09796443802114015
         ],
         "yaxis": "y"
        },
        {
         "hovertemplate": "Word=%{text}<br>X-Axis Label=%{x}<br>Y-Axis Label=%{y}<extra></extra>",
         "legendgroup": "Well",
         "marker": {
          "color": "#EF553B",
          "symbol": "circle"
         },
         "mode": "markers+text",
         "name": "Well",
         "opacity": 0.8,
         "orientation": "v",
         "showlegend": true,
         "text": [
          "Well"
         ],
         "textposition": "top center",
         "type": "scatter",
         "x": [
          0.6977468648801345
         ],
         "xaxis": "x",
         "y": [
          -0.034267514064778674
         ],
         "yaxis": "y"
        },
        {
         "hovertemplate": "Word=%{text}<br>X-Axis Label=%{x}<br>Y-Axis Label=%{y}<extra></extra>",
         "legendgroup": "Wife",
         "marker": {
          "color": "#00cc96",
          "symbol": "circle"
         },
         "mode": "markers+text",
         "name": "Wife",
         "opacity": 0.8,
         "orientation": "v",
         "showlegend": true,
         "text": [
          "Wife"
         ],
         "textposition": "top center",
         "type": "scatter",
         "x": [
          0.7568678229996816
         ],
         "xaxis": "x",
         "y": [
          0.0644185765908273
         ],
         "yaxis": "y"
        },
        {
         "hovertemplate": "Word=%{text}<br>X-Axis Label=%{x}<br>Y-Axis Label=%{y}<extra></extra>",
         "legendgroup": "Woman",
         "marker": {
          "color": "#ab63fa",
          "symbol": "circle"
         },
         "mode": "markers+text",
         "name": "Woman",
         "opacity": 0.8,
         "orientation": "v",
         "showlegend": true,
         "text": [
          "Woman"
         ],
         "textposition": "top center",
         "type": "scatter",
         "x": [
          0.7280976169477252
         ],
         "xaxis": "x",
         "y": [
          -0.006988925455454242
         ],
         "yaxis": "y"
        },
        {
         "hovertemplate": "Word=%{text}<br>X-Axis Label=%{x}<br>Y-Axis Label=%{y}<extra></extra>",
         "legendgroup": "Work",
         "marker": {
          "color": "#FFA15A",
          "symbol": "circle"
         },
         "mode": "markers+text",
         "name": "Work",
         "opacity": 0.8,
         "orientation": "v",
         "showlegend": true,
         "text": [
          "Work"
         ],
         "textposition": "top center",
         "type": "scatter",
         "x": [
          0.7757168537600532
         ],
         "xaxis": "x",
         "y": [
          -0.00002483355743016065
         ],
         "yaxis": "y"
        },
        {
         "hovertemplate": "Word=%{text}<br>X-Axis Label=%{x}<br>Y-Axis Label=%{y}<extra></extra>",
         "legendgroup": "World",
         "marker": {
          "color": "#19d3f3",
          "symbol": "circle"
         },
         "mode": "markers+text",
         "name": "World",
         "opacity": 0.8,
         "orientation": "v",
         "showlegend": true,
         "text": [
          "World"
         ],
         "textposition": "top center",
         "type": "scatter",
         "x": [
          0.6377563703365458
         ],
         "xaxis": "x",
         "y": [
          -0.2566207292314817
         ],
         "yaxis": "y"
        },
        {
         "hovertemplate": "Word=%{text}<br>X-Axis Label=%{x}<br>Y-Axis Label=%{y}<extra></extra>",
         "legendgroup": "Would",
         "marker": {
          "color": "#FF6692",
          "symbol": "circle"
         },
         "mode": "markers+text",
         "name": "Would",
         "opacity": 0.8,
         "orientation": "v",
         "showlegend": true,
         "text": [
          "Would"
         ],
         "textposition": "top center",
         "type": "scatter",
         "x": [
          0.7074053076672463
         ],
         "xaxis": "x",
         "y": [
          -0.018214248053565047
         ],
         "yaxis": "y"
        },
        {
         "hovertemplate": "Word=%{text}<br>X-Axis Label=%{x}<br>Y-Axis Label=%{y}<extra></extra>",
         "legendgroup": "Year",
         "marker": {
          "color": "#B6E880",
          "symbol": "circle"
         },
         "mode": "markers+text",
         "name": "Year",
         "opacity": 0.8,
         "orientation": "v",
         "showlegend": true,
         "text": [
          "Year"
         ],
         "textposition": "top center",
         "type": "scatter",
         "x": [
          0.8133483222967156
         ],
         "xaxis": "x",
         "y": [
          0.2573953297926038
         ],
         "yaxis": "y"
        },
        {
         "hovertemplate": "Word=%{text}<br>X-Axis Label=%{x}<br>Y-Axis Label=%{y}<extra></extra>",
         "legendgroup": "Year old",
         "marker": {
          "color": "#FF97FF",
          "symbol": "circle"
         },
         "mode": "markers+text",
         "name": "Year old",
         "opacity": 0.8,
         "orientation": "v",
         "showlegend": true,
         "text": [
          "Year old"
         ],
         "textposition": "top center",
         "type": "scatter",
         "x": [
          0.6642857083292619
         ],
         "xaxis": "x",
         "y": [
          0.4290688571652635
         ],
         "yaxis": "y"
        },
        {
         "hovertemplate": "Word=%{text}<br>X-Axis Label=%{x}<br>Y-Axis Label=%{y}<extra></extra>",
         "legendgroup": "Young",
         "marker": {
          "color": "#FECB52",
          "symbol": "circle"
         },
         "mode": "markers+text",
         "name": "Young",
         "opacity": 0.8,
         "orientation": "v",
         "showlegend": true,
         "text": [
          "Young"
         ],
         "textposition": "top center",
         "type": "scatter",
         "x": [
          0.7117816121540435
         ],
         "xaxis": "x",
         "y": [
          -0.044509047092709086
         ],
         "yaxis": "y"
        }
       ],
       "layout": {
        "font": {
         "family": "Arial",
         "size": 12
        },
        "hovermode": "closest",
        "legend": {
         "title": {
          "text": "Word"
         },
         "tracegroupgap": 0
        },
        "margin": {
         "t": 60
        },
        "plot_bgcolor": "white",
        "template": {
         "data": {
          "bar": [
           {
            "error_x": {
             "color": "#2a3f5f"
            },
            "error_y": {
             "color": "#2a3f5f"
            },
            "marker": {
             "line": {
              "color": "#E5ECF6",
              "width": 0.5
             },
             "pattern": {
              "fillmode": "overlay",
              "size": 10,
              "solidity": 0.2
             }
            },
            "type": "bar"
           }
          ],
          "barpolar": [
           {
            "marker": {
             "line": {
              "color": "#E5ECF6",
              "width": 0.5
             },
             "pattern": {
              "fillmode": "overlay",
              "size": 10,
              "solidity": 0.2
             }
            },
            "type": "barpolar"
           }
          ],
          "carpet": [
           {
            "aaxis": {
             "endlinecolor": "#2a3f5f",
             "gridcolor": "white",
             "linecolor": "white",
             "minorgridcolor": "white",
             "startlinecolor": "#2a3f5f"
            },
            "baxis": {
             "endlinecolor": "#2a3f5f",
             "gridcolor": "white",
             "linecolor": "white",
             "minorgridcolor": "white",
             "startlinecolor": "#2a3f5f"
            },
            "type": "carpet"
           }
          ],
          "choropleth": [
           {
            "colorbar": {
             "outlinewidth": 0,
             "ticks": ""
            },
            "type": "choropleth"
           }
          ],
          "contour": [
           {
            "colorbar": {
             "outlinewidth": 0,
             "ticks": ""
            },
            "colorscale": [
             [
              0,
              "#0d0887"
             ],
             [
              0.1111111111111111,
              "#46039f"
             ],
             [
              0.2222222222222222,
              "#7201a8"
             ],
             [
              0.3333333333333333,
              "#9c179e"
             ],
             [
              0.4444444444444444,
              "#bd3786"
             ],
             [
              0.5555555555555556,
              "#d8576b"
             ],
             [
              0.6666666666666666,
              "#ed7953"
             ],
             [
              0.7777777777777778,
              "#fb9f3a"
             ],
             [
              0.8888888888888888,
              "#fdca26"
             ],
             [
              1,
              "#f0f921"
             ]
            ],
            "type": "contour"
           }
          ],
          "contourcarpet": [
           {
            "colorbar": {
             "outlinewidth": 0,
             "ticks": ""
            },
            "type": "contourcarpet"
           }
          ],
          "heatmap": [
           {
            "colorbar": {
             "outlinewidth": 0,
             "ticks": ""
            },
            "colorscale": [
             [
              0,
              "#0d0887"
             ],
             [
              0.1111111111111111,
              "#46039f"
             ],
             [
              0.2222222222222222,
              "#7201a8"
             ],
             [
              0.3333333333333333,
              "#9c179e"
             ],
             [
              0.4444444444444444,
              "#bd3786"
             ],
             [
              0.5555555555555556,
              "#d8576b"
             ],
             [
              0.6666666666666666,
              "#ed7953"
             ],
             [
              0.7777777777777778,
              "#fb9f3a"
             ],
             [
              0.8888888888888888,
              "#fdca26"
             ],
             [
              1,
              "#f0f921"
             ]
            ],
            "type": "heatmap"
           }
          ],
          "heatmapgl": [
           {
            "colorbar": {
             "outlinewidth": 0,
             "ticks": ""
            },
            "colorscale": [
             [
              0,
              "#0d0887"
             ],
             [
              0.1111111111111111,
              "#46039f"
             ],
             [
              0.2222222222222222,
              "#7201a8"
             ],
             [
              0.3333333333333333,
              "#9c179e"
             ],
             [
              0.4444444444444444,
              "#bd3786"
             ],
             [
              0.5555555555555556,
              "#d8576b"
             ],
             [
              0.6666666666666666,
              "#ed7953"
             ],
             [
              0.7777777777777778,
              "#fb9f3a"
             ],
             [
              0.8888888888888888,
              "#fdca26"
             ],
             [
              1,
              "#f0f921"
             ]
            ],
            "type": "heatmapgl"
           }
          ],
          "histogram": [
           {
            "marker": {
             "pattern": {
              "fillmode": "overlay",
              "size": 10,
              "solidity": 0.2
             }
            },
            "type": "histogram"
           }
          ],
          "histogram2d": [
           {
            "colorbar": {
             "outlinewidth": 0,
             "ticks": ""
            },
            "colorscale": [
             [
              0,
              "#0d0887"
             ],
             [
              0.1111111111111111,
              "#46039f"
             ],
             [
              0.2222222222222222,
              "#7201a8"
             ],
             [
              0.3333333333333333,
              "#9c179e"
             ],
             [
              0.4444444444444444,
              "#bd3786"
             ],
             [
              0.5555555555555556,
              "#d8576b"
             ],
             [
              0.6666666666666666,
              "#ed7953"
             ],
             [
              0.7777777777777778,
              "#fb9f3a"
             ],
             [
              0.8888888888888888,
              "#fdca26"
             ],
             [
              1,
              "#f0f921"
             ]
            ],
            "type": "histogram2d"
           }
          ],
          "histogram2dcontour": [
           {
            "colorbar": {
             "outlinewidth": 0,
             "ticks": ""
            },
            "colorscale": [
             [
              0,
              "#0d0887"
             ],
             [
              0.1111111111111111,
              "#46039f"
             ],
             [
              0.2222222222222222,
              "#7201a8"
             ],
             [
              0.3333333333333333,
              "#9c179e"
             ],
             [
              0.4444444444444444,
              "#bd3786"
             ],
             [
              0.5555555555555556,
              "#d8576b"
             ],
             [
              0.6666666666666666,
              "#ed7953"
             ],
             [
              0.7777777777777778,
              "#fb9f3a"
             ],
             [
              0.8888888888888888,
              "#fdca26"
             ],
             [
              1,
              "#f0f921"
             ]
            ],
            "type": "histogram2dcontour"
           }
          ],
          "mesh3d": [
           {
            "colorbar": {
             "outlinewidth": 0,
             "ticks": ""
            },
            "type": "mesh3d"
           }
          ],
          "parcoords": [
           {
            "line": {
             "colorbar": {
              "outlinewidth": 0,
              "ticks": ""
             }
            },
            "type": "parcoords"
           }
          ],
          "pie": [
           {
            "automargin": true,
            "type": "pie"
           }
          ],
          "scatter": [
           {
            "fillpattern": {
             "fillmode": "overlay",
             "size": 10,
             "solidity": 0.2
            },
            "type": "scatter"
           }
          ],
          "scatter3d": [
           {
            "line": {
             "colorbar": {
              "outlinewidth": 0,
              "ticks": ""
             }
            },
            "marker": {
             "colorbar": {
              "outlinewidth": 0,
              "ticks": ""
             }
            },
            "type": "scatter3d"
           }
          ],
          "scattercarpet": [
           {
            "marker": {
             "colorbar": {
              "outlinewidth": 0,
              "ticks": ""
             }
            },
            "type": "scattercarpet"
           }
          ],
          "scattergeo": [
           {
            "marker": {
             "colorbar": {
              "outlinewidth": 0,
              "ticks": ""
             }
            },
            "type": "scattergeo"
           }
          ],
          "scattergl": [
           {
            "marker": {
             "colorbar": {
              "outlinewidth": 0,
              "ticks": ""
             }
            },
            "type": "scattergl"
           }
          ],
          "scattermapbox": [
           {
            "marker": {
             "colorbar": {
              "outlinewidth": 0,
              "ticks": ""
             }
            },
            "type": "scattermapbox"
           }
          ],
          "scatterpolar": [
           {
            "marker": {
             "colorbar": {
              "outlinewidth": 0,
              "ticks": ""
             }
            },
            "type": "scatterpolar"
           }
          ],
          "scatterpolargl": [
           {
            "marker": {
             "colorbar": {
              "outlinewidth": 0,
              "ticks": ""
             }
            },
            "type": "scatterpolargl"
           }
          ],
          "scatterternary": [
           {
            "marker": {
             "colorbar": {
              "outlinewidth": 0,
              "ticks": ""
             }
            },
            "type": "scatterternary"
           }
          ],
          "surface": [
           {
            "colorbar": {
             "outlinewidth": 0,
             "ticks": ""
            },
            "colorscale": [
             [
              0,
              "#0d0887"
             ],
             [
              0.1111111111111111,
              "#46039f"
             ],
             [
              0.2222222222222222,
              "#7201a8"
             ],
             [
              0.3333333333333333,
              "#9c179e"
             ],
             [
              0.4444444444444444,
              "#bd3786"
             ],
             [
              0.5555555555555556,
              "#d8576b"
             ],
             [
              0.6666666666666666,
              "#ed7953"
             ],
             [
              0.7777777777777778,
              "#fb9f3a"
             ],
             [
              0.8888888888888888,
              "#fdca26"
             ],
             [
              1,
              "#f0f921"
             ]
            ],
            "type": "surface"
           }
          ],
          "table": [
           {
            "cells": {
             "fill": {
              "color": "#EBF0F8"
             },
             "line": {
              "color": "white"
             }
            },
            "header": {
             "fill": {
              "color": "#C8D4E3"
             },
             "line": {
              "color": "white"
             }
            },
            "type": "table"
           }
          ]
         },
         "layout": {
          "annotationdefaults": {
           "arrowcolor": "#2a3f5f",
           "arrowhead": 0,
           "arrowwidth": 1
          },
          "autotypenumbers": "strict",
          "coloraxis": {
           "colorbar": {
            "outlinewidth": 0,
            "ticks": ""
           }
          },
          "colorscale": {
           "diverging": [
            [
             0,
             "#8e0152"
            ],
            [
             0.1,
             "#c51b7d"
            ],
            [
             0.2,
             "#de77ae"
            ],
            [
             0.3,
             "#f1b6da"
            ],
            [
             0.4,
             "#fde0ef"
            ],
            [
             0.5,
             "#f7f7f7"
            ],
            [
             0.6,
             "#e6f5d0"
            ],
            [
             0.7,
             "#b8e186"
            ],
            [
             0.8,
             "#7fbc41"
            ],
            [
             0.9,
             "#4d9221"
            ],
            [
             1,
             "#276419"
            ]
           ],
           "sequential": [
            [
             0,
             "#0d0887"
            ],
            [
             0.1111111111111111,
             "#46039f"
            ],
            [
             0.2222222222222222,
             "#7201a8"
            ],
            [
             0.3333333333333333,
             "#9c179e"
            ],
            [
             0.4444444444444444,
             "#bd3786"
            ],
            [
             0.5555555555555556,
             "#d8576b"
            ],
            [
             0.6666666666666666,
             "#ed7953"
            ],
            [
             0.7777777777777778,
             "#fb9f3a"
            ],
            [
             0.8888888888888888,
             "#fdca26"
            ],
            [
             1,
             "#f0f921"
            ]
           ],
           "sequentialminus": [
            [
             0,
             "#0d0887"
            ],
            [
             0.1111111111111111,
             "#46039f"
            ],
            [
             0.2222222222222222,
             "#7201a8"
            ],
            [
             0.3333333333333333,
             "#9c179e"
            ],
            [
             0.4444444444444444,
             "#bd3786"
            ],
            [
             0.5555555555555556,
             "#d8576b"
            ],
            [
             0.6666666666666666,
             "#ed7953"
            ],
            [
             0.7777777777777778,
             "#fb9f3a"
            ],
            [
             0.8888888888888888,
             "#fdca26"
            ],
            [
             1,
             "#f0f921"
            ]
           ]
          },
          "colorway": [
           "#636efa",
           "#EF553B",
           "#00cc96",
           "#ab63fa",
           "#FFA15A",
           "#19d3f3",
           "#FF6692",
           "#B6E880",
           "#FF97FF",
           "#FECB52"
          ],
          "font": {
           "color": "#2a3f5f"
          },
          "geo": {
           "bgcolor": "white",
           "lakecolor": "white",
           "landcolor": "#E5ECF6",
           "showlakes": true,
           "showland": true,
           "subunitcolor": "white"
          },
          "hoverlabel": {
           "align": "left"
          },
          "hovermode": "closest",
          "mapbox": {
           "style": "light"
          },
          "paper_bgcolor": "white",
          "plot_bgcolor": "#E5ECF6",
          "polar": {
           "angularaxis": {
            "gridcolor": "white",
            "linecolor": "white",
            "ticks": ""
           },
           "bgcolor": "#E5ECF6",
           "radialaxis": {
            "gridcolor": "white",
            "linecolor": "white",
            "ticks": ""
           }
          },
          "scene": {
           "xaxis": {
            "backgroundcolor": "#E5ECF6",
            "gridcolor": "white",
            "gridwidth": 2,
            "linecolor": "white",
            "showbackground": true,
            "ticks": "",
            "zerolinecolor": "white"
           },
           "yaxis": {
            "backgroundcolor": "#E5ECF6",
            "gridcolor": "white",
            "gridwidth": 2,
            "linecolor": "white",
            "showbackground": true,
            "ticks": "",
            "zerolinecolor": "white"
           },
           "zaxis": {
            "backgroundcolor": "#E5ECF6",
            "gridcolor": "white",
            "gridwidth": 2,
            "linecolor": "white",
            "showbackground": true,
            "ticks": "",
            "zerolinecolor": "white"
           }
          },
          "shapedefaults": {
           "line": {
            "color": "#2a3f5f"
           }
          },
          "ternary": {
           "aaxis": {
            "gridcolor": "white",
            "linecolor": "white",
            "ticks": ""
           },
           "baxis": {
            "gridcolor": "white",
            "linecolor": "white",
            "ticks": ""
           },
           "bgcolor": "#E5ECF6",
           "caxis": {
            "gridcolor": "white",
            "linecolor": "white",
            "ticks": ""
           }
          },
          "title": {
           "x": 0.05
          },
          "xaxis": {
           "automargin": true,
           "gridcolor": "white",
           "linecolor": "white",
           "ticks": "",
           "title": {
            "standoff": 15
           },
           "zerolinecolor": "white",
           "zerolinewidth": 2
          },
          "yaxis": {
           "automargin": true,
           "gridcolor": "white",
           "linecolor": "white",
           "ticks": "",
           "title": {
            "standoff": 15
           },
           "zerolinecolor": "white",
           "zerolinewidth": 2
          }
         }
        },
        "title": {
         "text": "Cloud <br><sup> Describe the movies in 100 words </sup>",
         "x": 0.5
        },
        "xaxis": {
         "anchor": "y",
         "domain": [
          0,
          1
         ],
         "linecolor": "gray",
         "linewidth": 2,
         "showline": false,
         "showticklabels": false,
         "tickformat": ".2f",
         "ticks": "",
         "title": {
          "text": " "
         }
        },
        "yaxis": {
         "anchor": "x",
         "domain": [
          0,
          1
         ],
         "linecolor": "gray",
         "linewidth": 2,
         "showline": false,
         "showticklabels": false,
         "tickformat": ".2f",
         "ticks": "",
         "title": {
          "text": " "
         }
        }
       }
      }
     },
     "metadata": {},
     "output_type": "display_data"
    }
   ],
   "source": [
    "fig = px.scatter(fm, x=\"x\", y=\"y\", text=\"words\", \n",
    "                 size_max=100, color=\"words\", \n",
    "                 labels=labels)\n",
    "\n",
    "# Customize text positioning (consider clarity and visual balance)\n",
    "fig.update_traces(textposition='top center')  # or 'top center' based on preference\n",
    "\n",
    "# Informative layout with custom title\n",
    "fig.update_layout(\n",
    "    title_text='Cloud <br><sup> Describe the movies in 100 words </sup>',  # Title\n",
    "    title_x=0.5,  # Centered title\n",
    "    xaxis_title=' ',  # Add meaningful axis labels\n",
    "    yaxis_title=' ',\n",
    "    font=dict(family=\"Arial\", size=12),  # Consistent font style and size\n",
    "    plot_bgcolor='white',  # Clean background color\n",
    "    xaxis_tickformat='.2f',  # Format x-axis ticks for readability (adjust as needed)\n",
    "    yaxis_tickformat='.2f',  # Format y-axis ticks for readability (adjust as needed)\n",
    "\n",
    "    xaxis=dict(\n",
    "        ticks='',\n",
    "        showticklabels=False\n",
    "    ),\n",
    "    yaxis=dict(\n",
    "        ticks='',\n",
    "        showticklabels=False\n",
    "    )\n",
    "\n",
    ")\n",
    "\n",
    "# Interactive elements (optional)\n",
    "fig.update_layout(hovermode='closest')  # Hover over a point for details\n",
    "fig.update_traces(opacity=0.8)  # Adjust marker opacity for better visibility\n",
    "\n",
    "# Advanced styling (optional)\n",
    "fig.update_xaxes(showline=False, linewidth=2, linecolor='gray')  # X-axis formatting\n",
    "fig.update_yaxes(showline=False, linewidth=2, linecolor='gray')  # Y-axis formatting\n",
    "\n",
    "# Save\n",
    "fig.write_html('{}.html'.format('cloud'))\n",
    "\n",
    "# Display the enhanced plot\n",
    "fig.show()"
   ]
  },
  {
   "cell_type": "code",
   "execution_count": 52,
   "metadata": {},
   "outputs": [
    {
     "data": {
      "image/png": "[encoded data removed]",
      "text/plain": [
       "<Figure size 640x480 with 1 Axes>"
      ]
     },
     "metadata": {},
     "output_type": "display_data"
    }
   ],
   "source": [
    "wcss = []\n",
    "\n",
    "# Probar diferentes valores de k\n",
    "for i in range(1, 11):\n",
    "    kmeans = KMeans(n_clusters=i, init='k-means++', random_state=42)\n",
    "    kmeans.fit(fm.loc[:,['x', 'y']])\n",
    "    wcss.append(kmeans.inertia_)\n",
    "\n",
    "\n",
    "# Graficar el método del codo\n",
    "plt.plot(range(1, 11), wcss)\n",
    "plt.title('Método del Codo')\n",
    "plt.xlabel('Número de clusters')\n",
    "plt.ylabel('WCSS')  # Within-Cluster Sum of Squares\n",
    "plt.show()"
   ]
  },
  {
   "cell_type": "code",
   "execution_count": 53,
   "metadata": {},
   "outputs": [
    {
     "data": {
      "text/html": [
       "<div>\n",
       "<style scoped>\n",
       "    .dataframe tbody tr th:only-of-type {\n",
       "        vertical-align: middle;\n",
       "    }\n",
       "\n",
       "    .dataframe tbody tr th {\n",
       "        vertical-align: top;\n",
       "    }\n",
       "\n",
       "    .dataframe thead th {\n",
       "        text-align: right;\n",
       "    }\n",
       "</style>\n",
       "<table border=\"1\" class=\"dataframe\">\n",
       "  <thead>\n",
       "    <tr style=\"text-align: right;\">\n",
       "      <th></th>\n",
       "      <th>x</th>\n",
       "      <th>y</th>\n",
       "      <th>words</th>\n",
       "      <th>group</th>\n",
       "    </tr>\n",
       "  </thead>\n",
       "  <tbody>\n",
       "    <tr>\n",
       "      <th>0</th>\n",
       "      <td>0.551455</td>\n",
       "      <td>-0.296861</td>\n",
       "      <td>American</td>\n",
       "      <td>2</td>\n",
       "    </tr>\n",
       "    <tr>\n",
       "      <th>1</th>\n",
       "      <td>0.735097</td>\n",
       "      <td>0.063577</td>\n",
       "      <td>Away</td>\n",
       "      <td>5</td>\n",
       "    </tr>\n",
       "    <tr>\n",
       "      <th>2</th>\n",
       "      <td>0.759587</td>\n",
       "      <td>-0.032706</td>\n",
       "      <td>Back</td>\n",
       "      <td>0</td>\n",
       "    </tr>\n",
       "    <tr>\n",
       "      <th>3</th>\n",
       "      <td>0.698663</td>\n",
       "      <td>-0.079835</td>\n",
       "      <td>Become</td>\n",
       "      <td>0</td>\n",
       "    </tr>\n",
       "    <tr>\n",
       "      <th>4</th>\n",
       "      <td>0.683983</td>\n",
       "      <td>-0.065798</td>\n",
       "      <td>Begin</td>\n",
       "      <td>0</td>\n",
       "    </tr>\n",
       "  </tbody>\n",
       "</table>\n",
       "</div>"
      ],
      "text/plain": [
       "          x         y     words group\n",
       "0  0.551455 -0.296861  American     2\n",
       "1  0.735097  0.063577      Away     5\n",
       "2  0.759587 -0.032706      Back     0\n",
       "3  0.698663 -0.079835    Become     0\n",
       "4  0.683983 -0.065798     Begin     0"
      ]
     },
     "execution_count": 53,
     "metadata": {},
     "output_type": "execute_result"
    }
   ],
   "source": [
    "kmeans = KMeans(n_clusters=6, init='k-means++', random_state=42)\n",
    "fm['group'] = kmeans.fit_predict(fm.loc[:,['x', 'y']])\n",
    "fm['group'] = fm['group'].astype(str)\n",
    "fm.head()"
   ]
  },
  {
   "cell_type": "code",
   "execution_count": 54,
   "metadata": {},
   "outputs": [
    {
     "data": {
      "application/vnd.plotly.v1+json": {
       "config": {
        "plotlyServerURL": "https://plot.ly"
       },
       "data": [
        {
         "hovertemplate": "Group=0<br>X-Axis Label=%{x}<br>Y-Axis Label=%{y}<br>Word=%{text}<extra></extra>",
         "legendgroup": "0",
         "marker": {
          "color": "#636efa",
          "symbol": "circle"
         },
         "mode": "markers+text",
         "name": "0",
         "opacity": 0.8,
         "orientation": "v",
         "showlegend": true,
         "text": [
          "Back",
          "Become",
          "Begin",
          "End",
          "Even",
          "First",
          "Good",
          "Help",
          "However",
          "Kill",
          "Man",
          "Named",
          "Start",
          "Take",
          "Tell",
          "Time",
          "Together",
          "Try",
          "Turn",
          "Way",
          "Well",
          "Would",
          "Young"
         ],
         "textposition": "top center",
         "type": "scatter",
         "x": [
          0.7595870320379625,
          0.6986631175495944,
          0.6839825210304605,
          0.7273567556458718,
          0.7513922376759757,
          0.7521313713706932,
          0.6929445945098803,
          0.7544363810255801,
          0.751391653112618,
          0.6844572254381459,
          0.7509726787088414,
          0.7405311455148406,
          0.7030500600125695,
          0.7877639202915266,
          0.7304890360146044,
          0.7702264107923221,
          0.7274763546314226,
          0.7558162859428624,
          0.713633542992066,
          0.754217437922158,
          0.6977468648801345,
          0.7074053076672463,
          0.7117816121540435
         ],
         "xaxis": "x",
         "y": [
          -0.032705871137561814,
          -0.07983524739018603,
          -0.065798278045568,
          -0.08351246326661291,
          -0.036454874373007096,
          -0.07487913249789985,
          -0.01225310331357316,
          -0.04139679185949285,
          -0.05784682392761004,
          -0.060667137927953904,
          -0.09583118934993655,
          -0.06440352870162218,
          -0.03346518179043247,
          -0.051514961438643335,
          -0.02719372076980822,
          -0.06641882004247252,
          -0.013316646277826286,
          -0.03406516077611875,
          -0.10388639155651458,
          -0.09796443802114015,
          -0.034267514064778674,
          -0.018214248053565047,
          -0.044509047092709086
         ],
         "yaxis": "y"
        },
        {
         "hovertemplate": "Group=1<br>X-Axis Label=%{x}<br>Y-Axis Label=%{y}<br>Word=%{text}<extra></extra>",
         "legendgroup": "1",
         "marker": {
          "color": "#EF553B",
          "symbol": "circle"
         },
         "mode": "markers+text",
         "name": "1",
         "opacity": 0.8,
         "orientation": "v",
         "showlegend": true,
         "text": [
          "Daughter",
          "Family",
          "Father",
          "Mother",
          "Old",
          "Son",
          "Year",
          "Year old"
         ],
         "textposition": "top center",
         "type": "scatter",
         "x": [
          0.7036265734134681,
          0.6981185880440127,
          0.7337753067356,
          0.7171974228336335,
          0.769058101337685,
          0.7118302356575084,
          0.8133483222967156,
          0.6642857083292619
         ],
         "xaxis": "x",
         "y": [
          0.18204002861091859,
          0.2020805833037873,
          0.2518270606418202,
          0.3036100566296637,
          0.31071969286610784,
          0.21606994162566834,
          0.2573953297926038,
          0.4290688571652635
         ],
         "yaxis": "y"
        },
        {
         "hovertemplate": "Group=2<br>X-Axis Label=%{x}<br>Y-Axis Label=%{y}<br>Word=%{text}<extra></extra>",
         "legendgroup": "2",
         "marker": {
          "color": "#00cc96",
          "symbol": "circle"
         },
         "mode": "markers+text",
         "name": "2",
         "opacity": 0.8,
         "orientation": "v",
         "showlegend": true,
         "text": [
          "American",
          "Film",
          "Group",
          "Men",
          "Movie",
          "Team",
          "War",
          "World"
         ],
         "textposition": "top center",
         "type": "scatter",
         "x": [
          0.5514552189429952,
          0.4436594891840793,
          0.565391191063451,
          0.6101140213664191,
          0.46825861859504375,
          0.47387739090182274,
          0.5434071223125916,
          0.6377563703365458
         ],
         "xaxis": "x",
         "y": [
          -0.2968611882212905,
          -0.3121049132653198,
          -0.24389648091873511,
          -0.21900874898568282,
          -0.1878630225309174,
          -0.15981829192195235,
          -0.32615901775479506,
          -0.2566207292314817
         ],
         "yaxis": "y"
        },
        {
         "hovertemplate": "Group=3<br>X-Axis Label=%{x}<br>Y-Axis Label=%{y}<br>Word=%{text}<extra></extra>",
         "legendgroup": "3",
         "marker": {
          "color": "#ab63fa",
          "symbol": "circle"
         },
         "mode": "markers+text",
         "name": "3",
         "opacity": 0.8,
         "orientation": "v",
         "showlegend": true,
         "text": [
          "City",
          "Death",
          "Escape",
          "Former",
          "Lead",
          "Local",
          "Murder",
          "Must",
          "Night",
          "People",
          "Plan",
          "Police",
          "Secret",
          "Set",
          "Show",
          "Story",
          "Town"
         ],
         "textposition": "top center",
         "type": "scatter",
         "x": [
          0.640332904226874,
          0.6499135630228282,
          0.6511299979273178,
          0.6275254416973617,
          0.6809327023184253,
          0.6434602947759127,
          0.5650842705712817,
          0.609550963510211,
          0.644687804838587,
          0.6916098165382751,
          0.660220493803901,
          0.6067518699652503,
          0.6005554768036594,
          0.6565590096737318,
          0.613379736583016,
          0.5961381870134808,
          0.6162609841372001
         ],
         "xaxis": "x",
         "y": [
          -0.15681534181532772,
          -0.01565647193866464,
          -0.08836371317413828,
          -0.04129068409878972,
          -0.11887075850425201,
          -0.024148522462970293,
          -0.09480200845859658,
          -0.13013970761088214,
          -0.005906268010448382,
          -0.16428611393359493,
          -0.10327328023182372,
          -0.108861080304569,
          -0.12105689866846568,
          -0.15423304700624338,
          -0.05044562416886374,
          -0.16468314113540145,
          -0.009352953210464435
         ],
         "yaxis": "y"
        },
        {
         "hovertemplate": "Group=4<br>X-Axis Label=%{x}<br>Y-Axis Label=%{y}<br>Word=%{text}<extra></extra>",
         "legendgroup": "4",
         "marker": {
          "color": "#FFA15A",
          "symbol": "circle"
         },
         "mode": "markers+text",
         "name": "4",
         "opacity": 0.8,
         "orientation": "v",
         "showlegend": true,
         "text": [
          "Boy",
          "Brother",
          "Car",
          "Child",
          "Girl",
          "High",
          "House",
          "Husband",
          "Money",
          "Relationship",
          "Run",
          "School",
          "Sister"
         ],
         "textposition": "top center",
         "type": "scatter",
         "x": [
          0.6176477459400908,
          0.6232265503834834,
          0.5827360929023544,
          0.6529446913845708,
          0.661907168074193,
          0.6063306870640115,
          0.6523913558687905,
          0.6608725037663212,
          0.6686543290541743,
          0.6863103129448658,
          0.6680089646283914,
          0.5956440135330919,
          0.6169404417188442
         ],
         "xaxis": "x",
         "y": [
          0.13049633230316157,
          0.0880146483152668,
          0.030802893284754808,
          0.14098658482453738,
          0.0721381297896928,
          0.10271846475973767,
          0.12055759886999388,
          0.16105976761362295,
          0.02703289506090284,
          0.08258825594964994,
          0.022943769400980363,
          0.1862157035391898,
          0.19777231406584245
         ],
         "yaxis": "y"
        },
        {
         "hovertemplate": "Group=5<br>X-Axis Label=%{x}<br>Y-Axis Label=%{y}<br>Word=%{text}<extra></extra>",
         "legendgroup": "5",
         "marker": {
          "color": "#19d3f3",
          "symbol": "circle"
         },
         "mode": "markers+text",
         "name": "5",
         "opacity": 0.8,
         "orientation": "v",
         "showlegend": true,
         "text": [
          "Away",
          "Belief",
          "Best",
          "Come",
          "Day",
          "Decides",
          "Fall",
          "Find",
          "Friend",
          "Get",
          "Give",
          "Home",
          "Job",
          "Know",
          "Later",
          "Learns",
          "Life",
          "Like",
          "Long",
          "Love",
          "Make",
          "Meet",
          "New",
          "Return",
          "See",
          "Soon",
          "Thing",
          "Want",
          "Wife",
          "Woman",
          "Work"
         ],
         "textposition": "top center",
         "type": "scatter",
         "x": [
          0.735096658639953,
          0.7270731754196921,
          0.7334197148392431,
          0.7792816589214191,
          0.7370791701412173,
          0.7552106475936279,
          0.6989321491485285,
          0.8105572095033149,
          0.8133588364835364,
          0.8174279942577853,
          0.7410708016958457,
          0.7643032328446515,
          0.701558573656323,
          0.7641809560382573,
          0.7372931962255428,
          0.7558194255272547,
          0.8058232041322714,
          0.7427277682182385,
          0.7188486660865464,
          0.7535266921662744,
          0.8078671958609944,
          0.8002233471554373,
          0.799924629765775,
          0.6984117729875954,
          0.7820155020311862,
          0.7337505355441283,
          0.7362026795536714,
          0.7930025143040802,
          0.7568678229996816,
          0.7280976169477252,
          0.7757168537600532
         ],
         "xaxis": "x",
         "y": [
          0.06357668750662203,
          0.009135796713305127,
          0.05678084745622233,
          -0.0013507827427767247,
          -0.0014457276450679693,
          0.05010844603215634,
          0.01911419287494474,
          -0.034727309686205264,
          0.061973192170095504,
          -0.004990873328897919,
          0.015885612358177606,
          0.1274366745208262,
          0.033510129006298614,
          -0.014131341993180677,
          0.04276231795096303,
          0.00981753247235767,
          0.04640511084027433,
          0.02221465518667015,
          0.021346927971914578,
          0.04601989277226133,
          -0.031428999637598716,
          0.03505695139363729,
          -0.014742611941406754,
          0.03658790292045569,
          0.0254266044981946,
          -0.01048335216692403,
          0.012951875548336782,
          0.04094142484618517,
          0.0644185765908273,
          -0.006988925455454242,
          -0.00002483355743016065
         ],
         "yaxis": "y"
        }
       ],
       "layout": {
        "font": {
         "family": "Arial",
         "size": 12
        },
        "hovermode": "closest",
        "legend": {
         "title": {
          "text": "Group"
         },
         "tracegroupgap": 0
        },
        "margin": {
         "t": 60
        },
        "plot_bgcolor": "white",
        "template": {
         "data": {
          "bar": [
           {
            "error_x": {
             "color": "#2a3f5f"
            },
            "error_y": {
             "color": "#2a3f5f"
            },
            "marker": {
             "line": {
              "color": "#E5ECF6",
              "width": 0.5
             },
             "pattern": {
              "fillmode": "overlay",
              "size": 10,
              "solidity": 0.2
             }
            },
            "type": "bar"
           }
          ],
          "barpolar": [
           {
            "marker": {
             "line": {
              "color": "#E5ECF6",
              "width": 0.5
             },
             "pattern": {
              "fillmode": "overlay",
              "size": 10,
              "solidity": 0.2
             }
            },
            "type": "barpolar"
           }
          ],
          "carpet": [
           {
            "aaxis": {
             "endlinecolor": "#2a3f5f",
             "gridcolor": "white",
             "linecolor": "white",
             "minorgridcolor": "white",
             "startlinecolor": "#2a3f5f"
            },
            "baxis": {
             "endlinecolor": "#2a3f5f",
             "gridcolor": "white",
             "linecolor": "white",
             "minorgridcolor": "white",
             "startlinecolor": "#2a3f5f"
            },
            "type": "carpet"
           }
          ],
          "choropleth": [
           {
            "colorbar": {
             "outlinewidth": 0,
             "ticks": ""
            },
            "type": "choropleth"
           }
          ],
          "contour": [
           {
            "colorbar": {
             "outlinewidth": 0,
             "ticks": ""
            },
            "colorscale": [
             [
              0,
              "#0d0887"
             ],
             [
              0.1111111111111111,
              "#46039f"
             ],
             [
              0.2222222222222222,
              "#7201a8"
             ],
             [
              0.3333333333333333,
              "#9c179e"
             ],
             [
              0.4444444444444444,
              "#bd3786"
             ],
             [
              0.5555555555555556,
              "#d8576b"
             ],
             [
              0.6666666666666666,
              "#ed7953"
             ],
             [
              0.7777777777777778,
              "#fb9f3a"
             ],
             [
              0.8888888888888888,
              "#fdca26"
             ],
             [
              1,
              "#f0f921"
             ]
            ],
            "type": "contour"
           }
          ],
          "contourcarpet": [
           {
            "colorbar": {
             "outlinewidth": 0,
             "ticks": ""
            },
            "type": "contourcarpet"
           }
          ],
          "heatmap": [
           {
            "colorbar": {
             "outlinewidth": 0,
             "ticks": ""
            },
            "colorscale": [
             [
              0,
              "#0d0887"
             ],
             [
              0.1111111111111111,
              "#46039f"
             ],
             [
              0.2222222222222222,
              "#7201a8"
             ],
             [
              0.3333333333333333,
              "#9c179e"
             ],
             [
              0.4444444444444444,
              "#bd3786"
             ],
             [
              0.5555555555555556,
              "#d8576b"
             ],
             [
              0.6666666666666666,
              "#ed7953"
             ],
             [
              0.7777777777777778,
              "#fb9f3a"
             ],
             [
              0.8888888888888888,
              "#fdca26"
             ],
             [
              1,
              "#f0f921"
             ]
            ],
            "type": "heatmap"
           }
          ],
          "heatmapgl": [
           {
            "colorbar": {
             "outlinewidth": 0,
             "ticks": ""
            },
            "colorscale": [
             [
              0,
              "#0d0887"
             ],
             [
              0.1111111111111111,
              "#46039f"
             ],
             [
              0.2222222222222222,
              "#7201a8"
             ],
             [
              0.3333333333333333,
              "#9c179e"
             ],
             [
              0.4444444444444444,
              "#bd3786"
             ],
             [
              0.5555555555555556,
              "#d8576b"
             ],
             [
              0.6666666666666666,
              "#ed7953"
             ],
             [
              0.7777777777777778,
              "#fb9f3a"
             ],
             [
              0.8888888888888888,
              "#fdca26"
             ],
             [
              1,
              "#f0f921"
             ]
            ],
            "type": "heatmapgl"
           }
          ],
          "histogram": [
           {
            "marker": {
             "pattern": {
              "fillmode": "overlay",
              "size": 10,
              "solidity": 0.2
             }
            },
            "type": "histogram"
           }
          ],
          "histogram2d": [
           {
            "colorbar": {
             "outlinewidth": 0,
             "ticks": ""
            },
            "colorscale": [
             [
              0,
              "#0d0887"
             ],
             [
              0.1111111111111111,
              "#46039f"
             ],
             [
              0.2222222222222222,
              "#7201a8"
             ],
             [
              0.3333333333333333,
              "#9c179e"
             ],
             [
              0.4444444444444444,
              "#bd3786"
             ],
             [
              0.5555555555555556,
              "#d8576b"
             ],
             [
              0.6666666666666666,
              "#ed7953"
             ],
             [
              0.7777777777777778,
              "#fb9f3a"
             ],
             [
              0.8888888888888888,
              "#fdca26"
             ],
             [
              1,
              "#f0f921"
             ]
            ],
            "type": "histogram2d"
           }
          ],
          "histogram2dcontour": [
           {
            "colorbar": {
             "outlinewidth": 0,
             "ticks": ""
            },
            "colorscale": [
             [
              0,
              "#0d0887"
             ],
             [
              0.1111111111111111,
              "#46039f"
             ],
             [
              0.2222222222222222,
              "#7201a8"
             ],
             [
              0.3333333333333333,
              "#9c179e"
             ],
             [
              0.4444444444444444,
              "#bd3786"
             ],
             [
              0.5555555555555556,
              "#d8576b"
             ],
             [
              0.6666666666666666,
              "#ed7953"
             ],
             [
              0.7777777777777778,
              "#fb9f3a"
             ],
             [
              0.8888888888888888,
              "#fdca26"
             ],
             [
              1,
              "#f0f921"
             ]
            ],
            "type": "histogram2dcontour"
           }
          ],
          "mesh3d": [
           {
            "colorbar": {
             "outlinewidth": 0,
             "ticks": ""
            },
            "type": "mesh3d"
           }
          ],
          "parcoords": [
           {
            "line": {
             "colorbar": {
              "outlinewidth": 0,
              "ticks": ""
             }
            },
            "type": "parcoords"
           }
          ],
          "pie": [
           {
            "automargin": true,
            "type": "pie"
           }
          ],
          "scatter": [
           {
            "fillpattern": {
             "fillmode": "overlay",
             "size": 10,
             "solidity": 0.2
            },
            "type": "scatter"
           }
          ],
          "scatter3d": [
           {
            "line": {
             "colorbar": {
              "outlinewidth": 0,
              "ticks": ""
             }
            },
            "marker": {
             "colorbar": {
              "outlinewidth": 0,
              "ticks": ""
             }
            },
            "type": "scatter3d"
           }
          ],
          "scattercarpet": [
           {
            "marker": {
             "colorbar": {
              "outlinewidth": 0,
              "ticks": ""
             }
            },
            "type": "scattercarpet"
           }
          ],
          "scattergeo": [
           {
            "marker": {
             "colorbar": {
              "outlinewidth": 0,
              "ticks": ""
             }
            },
            "type": "scattergeo"
           }
          ],
          "scattergl": [
           {
            "marker": {
             "colorbar": {
              "outlinewidth": 0,
              "ticks": ""
             }
            },
            "type": "scattergl"
           }
          ],
          "scattermapbox": [
           {
            "marker": {
             "colorbar": {
              "outlinewidth": 0,
              "ticks": ""
             }
            },
            "type": "scattermapbox"
           }
          ],
          "scatterpolar": [
           {
            "marker": {
             "colorbar": {
              "outlinewidth": 0,
              "ticks": ""
             }
            },
            "type": "scatterpolar"
           }
          ],
          "scatterpolargl": [
           {
            "marker": {
             "colorbar": {
              "outlinewidth": 0,
              "ticks": ""
             }
            },
            "type": "scatterpolargl"
           }
          ],
          "scatterternary": [
           {
            "marker": {
             "colorbar": {
              "outlinewidth": 0,
              "ticks": ""
             }
            },
            "type": "scatterternary"
           }
          ],
          "surface": [
           {
            "colorbar": {
             "outlinewidth": 0,
             "ticks": ""
            },
            "colorscale": [
             [
              0,
              "#0d0887"
             ],
             [
              0.1111111111111111,
              "#46039f"
             ],
             [
              0.2222222222222222,
              "#7201a8"
             ],
             [
              0.3333333333333333,
              "#9c179e"
             ],
             [
              0.4444444444444444,
              "#bd3786"
             ],
             [
              0.5555555555555556,
              "#d8576b"
             ],
             [
              0.6666666666666666,
              "#ed7953"
             ],
             [
              0.7777777777777778,
              "#fb9f3a"
             ],
             [
              0.8888888888888888,
              "#fdca26"
             ],
             [
              1,
              "#f0f921"
             ]
            ],
            "type": "surface"
           }
          ],
          "table": [
           {
            "cells": {
             "fill": {
              "color": "#EBF0F8"
             },
             "line": {
              "color": "white"
             }
            },
            "header": {
             "fill": {
              "color": "#C8D4E3"
             },
             "line": {
              "color": "white"
             }
            },
            "type": "table"
           }
          ]
         },
         "layout": {
          "annotationdefaults": {
           "arrowcolor": "#2a3f5f",
           "arrowhead": 0,
           "arrowwidth": 1
          },
          "autotypenumbers": "strict",
          "coloraxis": {
           "colorbar": {
            "outlinewidth": 0,
            "ticks": ""
           }
          },
          "colorscale": {
           "diverging": [
            [
             0,
             "#8e0152"
            ],
            [
             0.1,
             "#c51b7d"
            ],
            [
             0.2,
             "#de77ae"
            ],
            [
             0.3,
             "#f1b6da"
            ],
            [
             0.4,
             "#fde0ef"
            ],
            [
             0.5,
             "#f7f7f7"
            ],
            [
             0.6,
             "#e6f5d0"
            ],
            [
             0.7,
             "#b8e186"
            ],
            [
             0.8,
             "#7fbc41"
            ],
            [
             0.9,
             "#4d9221"
            ],
            [
             1,
             "#276419"
            ]
           ],
           "sequential": [
            [
             0,
             "#0d0887"
            ],
            [
             0.1111111111111111,
             "#46039f"
            ],
            [
             0.2222222222222222,
             "#7201a8"
            ],
            [
             0.3333333333333333,
             "#9c179e"
            ],
            [
             0.4444444444444444,
             "#bd3786"
            ],
            [
             0.5555555555555556,
             "#d8576b"
            ],
            [
             0.6666666666666666,
             "#ed7953"
            ],
            [
             0.7777777777777778,
             "#fb9f3a"
            ],
            [
             0.8888888888888888,
             "#fdca26"
            ],
            [
             1,
             "#f0f921"
            ]
           ],
           "sequentialminus": [
            [
             0,
             "#0d0887"
            ],
            [
             0.1111111111111111,
             "#46039f"
            ],
            [
             0.2222222222222222,
             "#7201a8"
            ],
            [
             0.3333333333333333,
             "#9c179e"
            ],
            [
             0.4444444444444444,
             "#bd3786"
            ],
            [
             0.5555555555555556,
             "#d8576b"
            ],
            [
             0.6666666666666666,
             "#ed7953"
            ],
            [
             0.7777777777777778,
             "#fb9f3a"
            ],
            [
             0.8888888888888888,
             "#fdca26"
            ],
            [
             1,
             "#f0f921"
            ]
           ]
          },
          "colorway": [
           "#636efa",
           "#EF553B",
           "#00cc96",
           "#ab63fa",
           "#FFA15A",
           "#19d3f3",
           "#FF6692",
           "#B6E880",
           "#FF97FF",
           "#FECB52"
          ],
          "font": {
           "color": "#2a3f5f"
          },
          "geo": {
           "bgcolor": "white",
           "lakecolor": "white",
           "landcolor": "#E5ECF6",
           "showlakes": true,
           "showland": true,
           "subunitcolor": "white"
          },
          "hoverlabel": {
           "align": "left"
          },
          "hovermode": "closest",
          "mapbox": {
           "style": "light"
          },
          "paper_bgcolor": "white",
          "plot_bgcolor": "#E5ECF6",
          "polar": {
           "angularaxis": {
            "gridcolor": "white",
            "linecolor": "white",
            "ticks": ""
           },
           "bgcolor": "#E5ECF6",
           "radialaxis": {
            "gridcolor": "white",
            "linecolor": "white",
            "ticks": ""
           }
          },
          "scene": {
           "xaxis": {
            "backgroundcolor": "#E5ECF6",
            "gridcolor": "white",
            "gridwidth": 2,
            "linecolor": "white",
            "showbackground": true,
            "ticks": "",
            "zerolinecolor": "white"
           },
           "yaxis": {
            "backgroundcolor": "#E5ECF6",
            "gridcolor": "white",
            "gridwidth": 2,
            "linecolor": "white",
            "showbackground": true,
            "ticks": "",
            "zerolinecolor": "white"
           },
           "zaxis": {
            "backgroundcolor": "#E5ECF6",
            "gridcolor": "white",
            "gridwidth": 2,
            "linecolor": "white",
            "showbackground": true,
            "ticks": "",
            "zerolinecolor": "white"
           }
          },
          "shapedefaults": {
           "line": {
            "color": "#2a3f5f"
           }
          },
          "ternary": {
           "aaxis": {
            "gridcolor": "white",
            "linecolor": "white",
            "ticks": ""
           },
           "baxis": {
            "gridcolor": "white",
            "linecolor": "white",
            "ticks": ""
           },
           "bgcolor": "#E5ECF6",
           "caxis": {
            "gridcolor": "white",
            "linecolor": "white",
            "ticks": ""
           }
          },
          "title": {
           "x": 0.05
          },
          "xaxis": {
           "automargin": true,
           "gridcolor": "white",
           "linecolor": "white",
           "ticks": "",
           "title": {
            "standoff": 15
           },
           "zerolinecolor": "white",
           "zerolinewidth": 2
          },
          "yaxis": {
           "automargin": true,
           "gridcolor": "white",
           "linecolor": "white",
           "ticks": "",
           "title": {
            "standoff": 15
           },
           "zerolinecolor": "white",
           "zerolinewidth": 2
          }
         }
        },
        "title": {
         "text": "Cloud <br><sup> Describe the movies in 100 words by groups </sup>",
         "x": 0.5
        },
        "xaxis": {
         "anchor": "y",
         "domain": [
          0,
          1
         ],
         "linecolor": "gray",
         "linewidth": 2,
         "showline": false,
         "showticklabels": false,
         "tickformat": ".2f",
         "ticks": "",
         "title": {
          "text": " "
         }
        },
        "yaxis": {
         "anchor": "x",
         "domain": [
          0,
          1
         ],
         "linecolor": "gray",
         "linewidth": 2,
         "showline": false,
         "showticklabels": false,
         "tickformat": ".2f",
         "ticks": "",
         "title": {
          "text": " "
         }
        }
       }
      }
     },
     "metadata": {},
     "output_type": "display_data"
    }
   ],
   "source": [
    "fig = px.scatter(fm, x=\"x\", y=\"y\", text=\"words\", \n",
    "                 size_max=100, color=\"group\", \n",
    "                 category_orders={'group': ['0', '1', '2', '3', '4', '5', '6', '7']},\n",
    "                 labels=labels)\n",
    "\n",
    "# Customize text positioning (consider clarity and visual balance)\n",
    "fig.update_traces(textposition='top center')  # or 'top center' based on preference\n",
    "\n",
    "# Informative layout with custom title\n",
    "fig.update_layout(\n",
    "    title_text='Cloud <br><sup> Describe the movies in 100 words by groups </sup>',  # Title\n",
    "    title_x=0.5,  # Centered title\n",
    "    xaxis_title=' ',  # Add meaningful axis labels\n",
    "    yaxis_title=' ',\n",
    "    font=dict(family=\"Arial\", size=12),  # Consistent font style and size\n",
    "    plot_bgcolor='white',  # Clean background color\n",
    "    xaxis_tickformat='.2f',  # Format x-axis ticks for readability (adjust as needed)\n",
    "    yaxis_tickformat='.2f',  # Format y-axis ticks for readability (adjust as needed)\n",
    "\n",
    "    xaxis=dict(\n",
    "        ticks='',\n",
    "        showticklabels=False\n",
    "    ),\n",
    "    yaxis=dict(\n",
    "        ticks='',\n",
    "        showticklabels=False\n",
    "    )\n",
    "\n",
    ")\n",
    "\n",
    "# Interactive elements (optional)\n",
    "fig.update_layout(hovermode='closest')  # Hover over a point for details\n",
    "fig.update_traces(opacity=0.8)  # Adjust marker opacity for better visibility\n",
    "\n",
    "# Advanced styling (optional)\n",
    "fig.update_xaxes(showline=False, linewidth=2, linecolor='gray')  # X-axis formatting\n",
    "fig.update_yaxes(showline=False, linewidth=2, linecolor='gray')  # Y-axis formatting\n",
    "\n",
    "# Save\n",
    "fig.write_html('{}.html'.format('cloud2'))\n",
    "\n",
    "# Display the enhanced plot\n",
    "fig.show()"
   ]
  },
  {
   "cell_type": "code",
   "execution_count": 58,
   "metadata": {},
   "outputs": [],
   "source": [
    "# from sklearn.mixture import GaussianMixture"
   ]
  },
  {
   "cell_type": "code",
   "execution_count": 59,
   "metadata": {},
   "outputs": [],
   "source": [
    "# #\n",
    "# # Numero de componentes\n",
    "# #\n",
    "# n_components = np.arange(1, 10)\n",
    "\n",
    "# gaussianModels = [\n",
    "#     GaussianMixture(n, covariance_type=\"full\", random_state=42).fit(fm.loc[:,['x', 'y']])\n",
    "#     for n in n_components\n",
    "# ]"
   ]
  },
  {
   "cell_type": "code",
   "execution_count": 60,
   "metadata": {},
   "outputs": [],
   "source": [
    "# #\n",
    "# # Método de codo con AIC y BIC\n",
    "# #\n",
    "# plt.figure(figsize=(10, 5))\n",
    "# plt.plot(n_components, [model.bic(fm.loc[:,['x', 'y']]) for model in gaussianModels], \"o-\", label=\"BIC\")\n",
    "# plt.plot(n_components, [model.aic(fm.loc[:,['x', 'y']]) for model in gaussianModels], \"o-\", label=\"AIC\")\n",
    "# plt.legend(loc=\"best\")\n",
    "# plt.xlabel(\"Número de componentes\")\n",
    "# plt.gca().spines[\"left\"].set_color(\"gray\")\n",
    "# plt.gca().spines[\"bottom\"].set_color(\"gray\")\n",
    "# plt.gca().spines[\"top\"].set_visible(False)\n",
    "# plt.gca().spines[\"right\"].set_visible(False)\n",
    "# plt.show()"
   ]
  },
  {
   "cell_type": "code",
   "execution_count": 61,
   "metadata": {},
   "outputs": [],
   "source": [
    "# #\n",
    "# # Ajuste de modelo GMM\n",
    "# #\n",
    "# n_components = 7\n",
    "# gaussianMixture = GaussianMixture(\n",
    "#     n_components=n_components,\n",
    "#     covariance_type=\"full\",\n",
    "#     max_iter=100,\n",
    "#     init_params=\"kmeans\",\n",
    "# )\n",
    "\n",
    "# mixture = gaussianMixture.fit(fm.loc[:,['x', 'y']])\n",
    "# fm['group'] = mixture.fit_predict(fm.loc[:,['x', 'y']])\n",
    "# fm['group'] = fm['group'].astype(str)\n",
    "# fm.head()"
   ]
  },
  {
   "cell_type": "code",
   "execution_count": 62,
   "metadata": {},
   "outputs": [],
   "source": [
    "# fig = px.scatter(fm, x=\"x\", y=\"y\", text=\"words\", \n",
    "#                  size_max=100, color=\"group\", \n",
    "#                  category_orders={'group': ['0', '1', '2', '3', '4', '5', '6', '7']},\n",
    "#                  labels=labels)\n",
    "\n",
    "# # Customize text positioning (consider clarity and visual balance)\n",
    "# fig.update_traces(textposition='top center')  # or 'top center' based on preference\n",
    "\n",
    "# # Informative layout with custom title\n",
    "# fig.update_layout(\n",
    "#     title_text='Cloud <br><sup> Describe the movies in 100 words by groups </sup>',  # Title\n",
    "#     title_x=0.5,  # Centered title\n",
    "#     xaxis_title='X-Axis Label',  # Add meaningful axis labels\n",
    "#     yaxis_title='Y-Axis Label',\n",
    "#     font=dict(family=\"Arial\", size=12),  # Consistent font style and size\n",
    "#     plot_bgcolor='white',  # Clean background color\n",
    "#     xaxis_tickformat='.2f',  # Format x-axis ticks for readability (adjust as needed)\n",
    "#     yaxis_tickformat='.2f',  # Format y-axis ticks for readability (adjust as needed)\n",
    "# )\n",
    "\n",
    "# # Interactive elements (optional)\n",
    "# fig.update_layout(hovermode='closest')  # Hover over a point for details\n",
    "# fig.update_traces(opacity=0.8)  # Adjust marker opacity for better visibility\n",
    "\n",
    "# # Advanced styling (optional)\n",
    "# fig.update_xaxes(showline=True, linewidth=2, linecolor='gray')  # X-axis formatting\n",
    "# fig.update_yaxes(showline=True, linewidth=2, linecolor='gray')  # Y-axis formatting\n",
    "\n",
    "# # Save\n",
    "# fig.write_html('{}.html'.format('cloud2'))\n",
    "\n",
    "# # Display the enhanced plot\n",
    "# fig.show()"
   ]
  },
  {
   "cell_type": "code",
   "execution_count": 63,
   "metadata": {},
   "outputs": [
    {
     "name": "stdout",
     "output_type": "stream",
     "text": [
      "ok_\n"
     ]
    }
   ],
   "source": [
    "print('ok_')"
   ]
  }
 ],
 "metadata": {
  "kernelspec": {
   "display_name": "Python 3",
   "language": "python",
   "name": "python3"
  },
  "language_info": {
   "codemirror_mode": {
    "name": "ipython",
    "version": 3
   },
   "file_extension": ".py",
   "mimetype": "text/x-python",
   "name": "python",
   "nbconvert_exporter": "python",
   "pygments_lexer": "ipython3",
   "version": "3.12.1"
  }
 },
 "nbformat": 4,
 "nbformat_minor": 2
}
